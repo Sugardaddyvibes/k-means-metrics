{
 "cells": [
  {
   "cell_type": "code",
   "execution_count": 1,
   "id": "e88dff4d",
   "metadata": {
    "_cell_guid": "b1076dfc-b9ad-4769-8c92-a6c4dae69d19",
    "_uuid": "8f2839f25d086af736a60e9eeb907d3b93b6e0e5",
    "execution": {
     "iopub.execute_input": "2022-08-24T02:05:36.820359Z",
     "iopub.status.busy": "2022-08-24T02:05:36.819352Z",
     "iopub.status.idle": "2022-08-24T02:05:37.974577Z",
     "shell.execute_reply": "2022-08-24T02:05:37.973581Z"
    },
    "papermill": {
     "duration": 1.17706,
     "end_time": "2022-08-24T02:05:37.977164",
     "exception": false,
     "start_time": "2022-08-24T02:05:36.800104",
     "status": "completed"
    },
    "tags": []
   },
   "outputs": [
    {
     "name": "stdout",
     "output_type": "stream",
     "text": [
      "/kaggle/input/titanic/train.csv\n",
      "/kaggle/input/titanic/test.csv\n",
      "/kaggle/input/titanic/gender_submission.csv\n"
     ]
    }
   ],
   "source": [
    "# This Python 3 environment comes with many helpful analytics libraries installed\n",
    "# It is defined by the kaggle/python Docker image: https://github.com/kaggle/docker-python\n",
    "# For example, here's several helpful packages to load\n",
    "\n",
    "import numpy as np # linear algebra\n",
    "\n",
    "import pandas as pd # data processing, CSV file I/O (e.g. pd.read_csv)\n",
    "import matplotlib.pyplot as plt\n",
    "import seaborn as sns\n",
    "%matplotlib inline\n",
    "\n",
    "\n",
    "# Input data files are available in the read-only \"../input/\" directory\n",
    "# For example, running this (by clicking run or pressing Shift+Enter) will list all files under the input directory\n",
    "\n",
    "import os\n",
    "for dirname, _, filenames in os.walk('/kaggle/input'):\n",
    "    for filename in filenames:\n",
    "        print(os.path.join(dirname, filename))\n",
    "\n",
    "# You can write up to 20GB to the current directory (/kaggle/working/) that gets preserved as output when you create a version using \"Save & Run All\" \n",
    "# You can also write temporary files to /kaggle/temp/, but they won't be saved outside of the current session"
   ]
  },
  {
   "cell_type": "markdown",
   "id": "bf59aab4",
   "metadata": {
    "papermill": {
     "duration": 0.012629,
     "end_time": "2022-08-24T02:05:38.002998",
     "exception": false,
     "start_time": "2022-08-24T02:05:37.990369",
     "status": "completed"
    },
    "tags": []
   },
   "source": [
    "import my dataset"
   ]
  },
  {
   "cell_type": "code",
   "execution_count": 2,
   "id": "a14cffbc",
   "metadata": {
    "execution": {
     "iopub.execute_input": "2022-08-24T02:05:38.032979Z",
     "iopub.status.busy": "2022-08-24T02:05:38.032076Z",
     "iopub.status.idle": "2022-08-24T02:05:38.074823Z",
     "shell.execute_reply": "2022-08-24T02:05:38.073744Z"
    },
    "papermill": {
     "duration": 0.061125,
     "end_time": "2022-08-24T02:05:38.077167",
     "exception": false,
     "start_time": "2022-08-24T02:05:38.016042",
     "status": "completed"
    },
    "tags": []
   },
   "outputs": [
    {
     "data": {
      "text/html": [
       "<div>\n",
       "<style scoped>\n",
       "    .dataframe tbody tr th:only-of-type {\n",
       "        vertical-align: middle;\n",
       "    }\n",
       "\n",
       "    .dataframe tbody tr th {\n",
       "        vertical-align: top;\n",
       "    }\n",
       "\n",
       "    .dataframe thead th {\n",
       "        text-align: right;\n",
       "    }\n",
       "</style>\n",
       "<table border=\"1\" class=\"dataframe\">\n",
       "  <thead>\n",
       "    <tr style=\"text-align: right;\">\n",
       "      <th></th>\n",
       "      <th>PassengerId</th>\n",
       "      <th>Survived</th>\n",
       "      <th>Pclass</th>\n",
       "      <th>Name</th>\n",
       "      <th>Sex</th>\n",
       "      <th>Age</th>\n",
       "      <th>SibSp</th>\n",
       "      <th>Parch</th>\n",
       "      <th>Ticket</th>\n",
       "      <th>Fare</th>\n",
       "      <th>Cabin</th>\n",
       "      <th>Embarked</th>\n",
       "    </tr>\n",
       "  </thead>\n",
       "  <tbody>\n",
       "    <tr>\n",
       "      <th>0</th>\n",
       "      <td>1</td>\n",
       "      <td>0</td>\n",
       "      <td>3</td>\n",
       "      <td>Braund, Mr. Owen Harris</td>\n",
       "      <td>male</td>\n",
       "      <td>22.0</td>\n",
       "      <td>1</td>\n",
       "      <td>0</td>\n",
       "      <td>A/5 21171</td>\n",
       "      <td>7.2500</td>\n",
       "      <td>NaN</td>\n",
       "      <td>S</td>\n",
       "    </tr>\n",
       "    <tr>\n",
       "      <th>1</th>\n",
       "      <td>2</td>\n",
       "      <td>1</td>\n",
       "      <td>1</td>\n",
       "      <td>Cumings, Mrs. John Bradley (Florence Briggs Th...</td>\n",
       "      <td>female</td>\n",
       "      <td>38.0</td>\n",
       "      <td>1</td>\n",
       "      <td>0</td>\n",
       "      <td>PC 17599</td>\n",
       "      <td>71.2833</td>\n",
       "      <td>C85</td>\n",
       "      <td>C</td>\n",
       "    </tr>\n",
       "    <tr>\n",
       "      <th>2</th>\n",
       "      <td>3</td>\n",
       "      <td>1</td>\n",
       "      <td>3</td>\n",
       "      <td>Heikkinen, Miss. Laina</td>\n",
       "      <td>female</td>\n",
       "      <td>26.0</td>\n",
       "      <td>0</td>\n",
       "      <td>0</td>\n",
       "      <td>STON/O2. 3101282</td>\n",
       "      <td>7.9250</td>\n",
       "      <td>NaN</td>\n",
       "      <td>S</td>\n",
       "    </tr>\n",
       "    <tr>\n",
       "      <th>3</th>\n",
       "      <td>4</td>\n",
       "      <td>1</td>\n",
       "      <td>1</td>\n",
       "      <td>Futrelle, Mrs. Jacques Heath (Lily May Peel)</td>\n",
       "      <td>female</td>\n",
       "      <td>35.0</td>\n",
       "      <td>1</td>\n",
       "      <td>0</td>\n",
       "      <td>113803</td>\n",
       "      <td>53.1000</td>\n",
       "      <td>C123</td>\n",
       "      <td>S</td>\n",
       "    </tr>\n",
       "    <tr>\n",
       "      <th>4</th>\n",
       "      <td>5</td>\n",
       "      <td>0</td>\n",
       "      <td>3</td>\n",
       "      <td>Allen, Mr. William Henry</td>\n",
       "      <td>male</td>\n",
       "      <td>35.0</td>\n",
       "      <td>0</td>\n",
       "      <td>0</td>\n",
       "      <td>373450</td>\n",
       "      <td>8.0500</td>\n",
       "      <td>NaN</td>\n",
       "      <td>S</td>\n",
       "    </tr>\n",
       "  </tbody>\n",
       "</table>\n",
       "</div>"
      ],
      "text/plain": [
       "   PassengerId  Survived  Pclass  \\\n",
       "0            1         0       3   \n",
       "1            2         1       1   \n",
       "2            3         1       3   \n",
       "3            4         1       1   \n",
       "4            5         0       3   \n",
       "\n",
       "                                                Name     Sex   Age  SibSp  \\\n",
       "0                            Braund, Mr. Owen Harris    male  22.0      1   \n",
       "1  Cumings, Mrs. John Bradley (Florence Briggs Th...  female  38.0      1   \n",
       "2                             Heikkinen, Miss. Laina  female  26.0      0   \n",
       "3       Futrelle, Mrs. Jacques Heath (Lily May Peel)  female  35.0      1   \n",
       "4                           Allen, Mr. William Henry    male  35.0      0   \n",
       "\n",
       "   Parch            Ticket     Fare Cabin Embarked  \n",
       "0      0         A/5 21171   7.2500   NaN        S  \n",
       "1      0          PC 17599  71.2833   C85        C  \n",
       "2      0  STON/O2. 3101282   7.9250   NaN        S  \n",
       "3      0            113803  53.1000  C123        S  \n",
       "4      0            373450   8.0500   NaN        S  "
      ]
     },
     "execution_count": 2,
     "metadata": {},
     "output_type": "execute_result"
    }
   ],
   "source": [
    "df_train_copy = pd.read_csv('/kaggle/input/titanic/train.csv')\n",
    "train_df = df_train_copy\n",
    "train_df.head()\n",
    "\n"
   ]
  },
  {
   "cell_type": "code",
   "execution_count": 3,
   "id": "d103c38a",
   "metadata": {
    "execution": {
     "iopub.execute_input": "2022-08-24T02:05:38.105998Z",
     "iopub.status.busy": "2022-08-24T02:05:38.105226Z",
     "iopub.status.idle": "2022-08-24T02:05:38.129518Z",
     "shell.execute_reply": "2022-08-24T02:05:38.128404Z"
    },
    "papermill": {
     "duration": 0.041371,
     "end_time": "2022-08-24T02:05:38.131918",
     "exception": false,
     "start_time": "2022-08-24T02:05:38.090547",
     "status": "completed"
    },
    "tags": []
   },
   "outputs": [
    {
     "data": {
      "text/html": [
       "<div>\n",
       "<style scoped>\n",
       "    .dataframe tbody tr th:only-of-type {\n",
       "        vertical-align: middle;\n",
       "    }\n",
       "\n",
       "    .dataframe tbody tr th {\n",
       "        vertical-align: top;\n",
       "    }\n",
       "\n",
       "    .dataframe thead th {\n",
       "        text-align: right;\n",
       "    }\n",
       "</style>\n",
       "<table border=\"1\" class=\"dataframe\">\n",
       "  <thead>\n",
       "    <tr style=\"text-align: right;\">\n",
       "      <th></th>\n",
       "      <th>PassengerId</th>\n",
       "      <th>Pclass</th>\n",
       "      <th>Name</th>\n",
       "      <th>Sex</th>\n",
       "      <th>Age</th>\n",
       "      <th>SibSp</th>\n",
       "      <th>Parch</th>\n",
       "      <th>Ticket</th>\n",
       "      <th>Fare</th>\n",
       "      <th>Cabin</th>\n",
       "      <th>Embarked</th>\n",
       "    </tr>\n",
       "  </thead>\n",
       "  <tbody>\n",
       "    <tr>\n",
       "      <th>0</th>\n",
       "      <td>892</td>\n",
       "      <td>3</td>\n",
       "      <td>Kelly, Mr. James</td>\n",
       "      <td>male</td>\n",
       "      <td>34.5</td>\n",
       "      <td>0</td>\n",
       "      <td>0</td>\n",
       "      <td>330911</td>\n",
       "      <td>7.8292</td>\n",
       "      <td>NaN</td>\n",
       "      <td>Q</td>\n",
       "    </tr>\n",
       "    <tr>\n",
       "      <th>1</th>\n",
       "      <td>893</td>\n",
       "      <td>3</td>\n",
       "      <td>Wilkes, Mrs. James (Ellen Needs)</td>\n",
       "      <td>female</td>\n",
       "      <td>47.0</td>\n",
       "      <td>1</td>\n",
       "      <td>0</td>\n",
       "      <td>363272</td>\n",
       "      <td>7.0000</td>\n",
       "      <td>NaN</td>\n",
       "      <td>S</td>\n",
       "    </tr>\n",
       "    <tr>\n",
       "      <th>2</th>\n",
       "      <td>894</td>\n",
       "      <td>2</td>\n",
       "      <td>Myles, Mr. Thomas Francis</td>\n",
       "      <td>male</td>\n",
       "      <td>62.0</td>\n",
       "      <td>0</td>\n",
       "      <td>0</td>\n",
       "      <td>240276</td>\n",
       "      <td>9.6875</td>\n",
       "      <td>NaN</td>\n",
       "      <td>Q</td>\n",
       "    </tr>\n",
       "    <tr>\n",
       "      <th>3</th>\n",
       "      <td>895</td>\n",
       "      <td>3</td>\n",
       "      <td>Wirz, Mr. Albert</td>\n",
       "      <td>male</td>\n",
       "      <td>27.0</td>\n",
       "      <td>0</td>\n",
       "      <td>0</td>\n",
       "      <td>315154</td>\n",
       "      <td>8.6625</td>\n",
       "      <td>NaN</td>\n",
       "      <td>S</td>\n",
       "    </tr>\n",
       "    <tr>\n",
       "      <th>4</th>\n",
       "      <td>896</td>\n",
       "      <td>3</td>\n",
       "      <td>Hirvonen, Mrs. Alexander (Helga E Lindqvist)</td>\n",
       "      <td>female</td>\n",
       "      <td>22.0</td>\n",
       "      <td>1</td>\n",
       "      <td>1</td>\n",
       "      <td>3101298</td>\n",
       "      <td>12.2875</td>\n",
       "      <td>NaN</td>\n",
       "      <td>S</td>\n",
       "    </tr>\n",
       "  </tbody>\n",
       "</table>\n",
       "</div>"
      ],
      "text/plain": [
       "   PassengerId  Pclass                                          Name     Sex  \\\n",
       "0          892       3                              Kelly, Mr. James    male   \n",
       "1          893       3              Wilkes, Mrs. James (Ellen Needs)  female   \n",
       "2          894       2                     Myles, Mr. Thomas Francis    male   \n",
       "3          895       3                              Wirz, Mr. Albert    male   \n",
       "4          896       3  Hirvonen, Mrs. Alexander (Helga E Lindqvist)  female   \n",
       "\n",
       "    Age  SibSp  Parch   Ticket     Fare Cabin Embarked  \n",
       "0  34.5      0      0   330911   7.8292   NaN        Q  \n",
       "1  47.0      1      0   363272   7.0000   NaN        S  \n",
       "2  62.0      0      0   240276   9.6875   NaN        Q  \n",
       "3  27.0      0      0   315154   8.6625   NaN        S  \n",
       "4  22.0      1      1  3101298  12.2875   NaN        S  "
      ]
     },
     "execution_count": 3,
     "metadata": {},
     "output_type": "execute_result"
    }
   ],
   "source": [
    "df_test_copy = pd.read_csv('/kaggle/input/titanic/test.csv')\n",
    "test_df = df_test_copy\n",
    "test_df.head()"
   ]
  },
  {
   "cell_type": "code",
   "execution_count": 4,
   "id": "e38a166a",
   "metadata": {
    "execution": {
     "iopub.execute_input": "2022-08-24T02:05:38.161526Z",
     "iopub.status.busy": "2022-08-24T02:05:38.161069Z",
     "iopub.status.idle": "2022-08-24T02:05:38.206613Z",
     "shell.execute_reply": "2022-08-24T02:05:38.205556Z"
    },
    "papermill": {
     "duration": 0.063437,
     "end_time": "2022-08-24T02:05:38.209207",
     "exception": false,
     "start_time": "2022-08-24T02:05:38.145770",
     "status": "completed"
    },
    "tags": []
   },
   "outputs": [
    {
     "data": {
      "text/html": [
       "<div>\n",
       "<style scoped>\n",
       "    .dataframe tbody tr th:only-of-type {\n",
       "        vertical-align: middle;\n",
       "    }\n",
       "\n",
       "    .dataframe tbody tr th {\n",
       "        vertical-align: top;\n",
       "    }\n",
       "\n",
       "    .dataframe thead th {\n",
       "        text-align: right;\n",
       "    }\n",
       "</style>\n",
       "<table border=\"1\" class=\"dataframe\">\n",
       "  <thead>\n",
       "    <tr style=\"text-align: right;\">\n",
       "      <th></th>\n",
       "      <th>PassengerId</th>\n",
       "      <th>Survived</th>\n",
       "      <th>Pclass</th>\n",
       "      <th>Age</th>\n",
       "      <th>SibSp</th>\n",
       "      <th>Parch</th>\n",
       "      <th>Fare</th>\n",
       "    </tr>\n",
       "  </thead>\n",
       "  <tbody>\n",
       "    <tr>\n",
       "      <th>count</th>\n",
       "      <td>891.000000</td>\n",
       "      <td>891.000000</td>\n",
       "      <td>891.000000</td>\n",
       "      <td>714.000000</td>\n",
       "      <td>891.000000</td>\n",
       "      <td>891.000000</td>\n",
       "      <td>891.000000</td>\n",
       "    </tr>\n",
       "    <tr>\n",
       "      <th>mean</th>\n",
       "      <td>446.000000</td>\n",
       "      <td>0.383838</td>\n",
       "      <td>2.308642</td>\n",
       "      <td>29.699118</td>\n",
       "      <td>0.523008</td>\n",
       "      <td>0.381594</td>\n",
       "      <td>32.204208</td>\n",
       "    </tr>\n",
       "    <tr>\n",
       "      <th>std</th>\n",
       "      <td>257.353842</td>\n",
       "      <td>0.486592</td>\n",
       "      <td>0.836071</td>\n",
       "      <td>14.526497</td>\n",
       "      <td>1.102743</td>\n",
       "      <td>0.806057</td>\n",
       "      <td>49.693429</td>\n",
       "    </tr>\n",
       "    <tr>\n",
       "      <th>min</th>\n",
       "      <td>1.000000</td>\n",
       "      <td>0.000000</td>\n",
       "      <td>1.000000</td>\n",
       "      <td>0.420000</td>\n",
       "      <td>0.000000</td>\n",
       "      <td>0.000000</td>\n",
       "      <td>0.000000</td>\n",
       "    </tr>\n",
       "    <tr>\n",
       "      <th>25%</th>\n",
       "      <td>223.500000</td>\n",
       "      <td>0.000000</td>\n",
       "      <td>2.000000</td>\n",
       "      <td>20.125000</td>\n",
       "      <td>0.000000</td>\n",
       "      <td>0.000000</td>\n",
       "      <td>7.910400</td>\n",
       "    </tr>\n",
       "    <tr>\n",
       "      <th>50%</th>\n",
       "      <td>446.000000</td>\n",
       "      <td>0.000000</td>\n",
       "      <td>3.000000</td>\n",
       "      <td>28.000000</td>\n",
       "      <td>0.000000</td>\n",
       "      <td>0.000000</td>\n",
       "      <td>14.454200</td>\n",
       "    </tr>\n",
       "    <tr>\n",
       "      <th>75%</th>\n",
       "      <td>668.500000</td>\n",
       "      <td>1.000000</td>\n",
       "      <td>3.000000</td>\n",
       "      <td>38.000000</td>\n",
       "      <td>1.000000</td>\n",
       "      <td>0.000000</td>\n",
       "      <td>31.000000</td>\n",
       "    </tr>\n",
       "    <tr>\n",
       "      <th>max</th>\n",
       "      <td>891.000000</td>\n",
       "      <td>1.000000</td>\n",
       "      <td>3.000000</td>\n",
       "      <td>80.000000</td>\n",
       "      <td>8.000000</td>\n",
       "      <td>6.000000</td>\n",
       "      <td>512.329200</td>\n",
       "    </tr>\n",
       "  </tbody>\n",
       "</table>\n",
       "</div>"
      ],
      "text/plain": [
       "       PassengerId    Survived      Pclass         Age       SibSp  \\\n",
       "count   891.000000  891.000000  891.000000  714.000000  891.000000   \n",
       "mean    446.000000    0.383838    2.308642   29.699118    0.523008   \n",
       "std     257.353842    0.486592    0.836071   14.526497    1.102743   \n",
       "min       1.000000    0.000000    1.000000    0.420000    0.000000   \n",
       "25%     223.500000    0.000000    2.000000   20.125000    0.000000   \n",
       "50%     446.000000    0.000000    3.000000   28.000000    0.000000   \n",
       "75%     668.500000    1.000000    3.000000   38.000000    1.000000   \n",
       "max     891.000000    1.000000    3.000000   80.000000    8.000000   \n",
       "\n",
       "            Parch        Fare  \n",
       "count  891.000000  891.000000  \n",
       "mean     0.381594   32.204208  \n",
       "std      0.806057   49.693429  \n",
       "min      0.000000    0.000000  \n",
       "25%      0.000000    7.910400  \n",
       "50%      0.000000   14.454200  \n",
       "75%      0.000000   31.000000  \n",
       "max      6.000000  512.329200  "
      ]
     },
     "execution_count": 4,
     "metadata": {},
     "output_type": "execute_result"
    }
   ],
   "source": [
    "train_df.describe()"
   ]
  },
  {
   "cell_type": "code",
   "execution_count": 5,
   "id": "29eed762",
   "metadata": {
    "execution": {
     "iopub.execute_input": "2022-08-24T02:05:38.239220Z",
     "iopub.status.busy": "2022-08-24T02:05:38.238825Z",
     "iopub.status.idle": "2022-08-24T02:05:38.256997Z",
     "shell.execute_reply": "2022-08-24T02:05:38.255506Z"
    },
    "papermill": {
     "duration": 0.036338,
     "end_time": "2022-08-24T02:05:38.259649",
     "exception": false,
     "start_time": "2022-08-24T02:05:38.223311",
     "status": "completed"
    },
    "tags": []
   },
   "outputs": [
    {
     "name": "stdout",
     "output_type": "stream",
     "text": [
      "<class 'pandas.core.frame.DataFrame'>\n",
      "RangeIndex: 891 entries, 0 to 890\n",
      "Data columns (total 12 columns):\n",
      " #   Column       Non-Null Count  Dtype  \n",
      "---  ------       --------------  -----  \n",
      " 0   PassengerId  891 non-null    int64  \n",
      " 1   Survived     891 non-null    int64  \n",
      " 2   Pclass       891 non-null    int64  \n",
      " 3   Name         891 non-null    object \n",
      " 4   Sex          891 non-null    object \n",
      " 5   Age          714 non-null    float64\n",
      " 6   SibSp        891 non-null    int64  \n",
      " 7   Parch        891 non-null    int64  \n",
      " 8   Ticket       891 non-null    object \n",
      " 9   Fare         891 non-null    float64\n",
      " 10  Cabin        204 non-null    object \n",
      " 11  Embarked     889 non-null    object \n",
      "dtypes: float64(2), int64(5), object(5)\n",
      "memory usage: 83.7+ KB\n"
     ]
    }
   ],
   "source": [
    "##check the coolumn with null values and know the type of data  in each column each columns h\n",
    "\n",
    "train_df.info()"
   ]
  },
  {
   "cell_type": "code",
   "execution_count": 6,
   "id": "44740c26",
   "metadata": {
    "execution": {
     "iopub.execute_input": "2022-08-24T02:05:38.289244Z",
     "iopub.status.busy": "2022-08-24T02:05:38.288437Z",
     "iopub.status.idle": "2022-08-24T02:05:38.298425Z",
     "shell.execute_reply": "2022-08-24T02:05:38.297407Z"
    },
    "papermill": {
     "duration": 0.02754,
     "end_time": "2022-08-24T02:05:38.300886",
     "exception": false,
     "start_time": "2022-08-24T02:05:38.273346",
     "status": "completed"
    },
    "tags": []
   },
   "outputs": [
    {
     "data": {
      "text/plain": [
       "PassengerId      0\n",
       "Survived         0\n",
       "Pclass           0\n",
       "Name             0\n",
       "Sex              0\n",
       "Age            177\n",
       "SibSp            0\n",
       "Parch            0\n",
       "Ticket           0\n",
       "Fare             0\n",
       "Cabin          687\n",
       "Embarked         2\n",
       "dtype: int64"
      ]
     },
     "execution_count": 6,
     "metadata": {},
     "output_type": "execute_result"
    }
   ],
   "source": [
    "train_df.isnull().sum()"
   ]
  },
  {
   "cell_type": "code",
   "execution_count": 7,
   "id": "ff844370",
   "metadata": {
    "execution": {
     "iopub.execute_input": "2022-08-24T02:05:38.330761Z",
     "iopub.status.busy": "2022-08-24T02:05:38.329953Z",
     "iopub.status.idle": "2022-08-24T02:05:38.353247Z",
     "shell.execute_reply": "2022-08-24T02:05:38.351642Z"
    },
    "papermill": {
     "duration": 0.042481,
     "end_time": "2022-08-24T02:05:38.357174",
     "exception": false,
     "start_time": "2022-08-24T02:05:38.314693",
     "status": "completed"
    },
    "tags": []
   },
   "outputs": [
    {
     "data": {
      "text/html": [
       "<div>\n",
       "<style scoped>\n",
       "    .dataframe tbody tr th:only-of-type {\n",
       "        vertical-align: middle;\n",
       "    }\n",
       "\n",
       "    .dataframe tbody tr th {\n",
       "        vertical-align: top;\n",
       "    }\n",
       "\n",
       "    .dataframe thead th {\n",
       "        text-align: right;\n",
       "    }\n",
       "</style>\n",
       "<table border=\"1\" class=\"dataframe\">\n",
       "  <thead>\n",
       "    <tr style=\"text-align: right;\">\n",
       "      <th></th>\n",
       "      <th>Name</th>\n",
       "      <th>Sex</th>\n",
       "      <th>Ticket</th>\n",
       "      <th>Cabin</th>\n",
       "      <th>Embarked</th>\n",
       "    </tr>\n",
       "  </thead>\n",
       "  <tbody>\n",
       "    <tr>\n",
       "      <th>count</th>\n",
       "      <td>891</td>\n",
       "      <td>891</td>\n",
       "      <td>891</td>\n",
       "      <td>204</td>\n",
       "      <td>889</td>\n",
       "    </tr>\n",
       "    <tr>\n",
       "      <th>unique</th>\n",
       "      <td>891</td>\n",
       "      <td>2</td>\n",
       "      <td>681</td>\n",
       "      <td>147</td>\n",
       "      <td>3</td>\n",
       "    </tr>\n",
       "    <tr>\n",
       "      <th>top</th>\n",
       "      <td>Braund, Mr. Owen Harris</td>\n",
       "      <td>male</td>\n",
       "      <td>347082</td>\n",
       "      <td>B96 B98</td>\n",
       "      <td>S</td>\n",
       "    </tr>\n",
       "    <tr>\n",
       "      <th>freq</th>\n",
       "      <td>1</td>\n",
       "      <td>577</td>\n",
       "      <td>7</td>\n",
       "      <td>4</td>\n",
       "      <td>644</td>\n",
       "    </tr>\n",
       "  </tbody>\n",
       "</table>\n",
       "</div>"
      ],
      "text/plain": [
       "                           Name   Sex  Ticket    Cabin Embarked\n",
       "count                       891   891     891      204      889\n",
       "unique                      891     2     681      147        3\n",
       "top     Braund, Mr. Owen Harris  male  347082  B96 B98        S\n",
       "freq                          1   577       7        4      644"
      ]
     },
     "execution_count": 7,
     "metadata": {},
     "output_type": "execute_result"
    }
   ],
   "source": [
    "##checking out information on  the categorical data\n",
    "train_df.describe(include=['O'])\n"
   ]
  },
  {
   "cell_type": "code",
   "execution_count": 8,
   "id": "8ddadd07",
   "metadata": {
    "execution": {
     "iopub.execute_input": "2022-08-24T02:05:38.390098Z",
     "iopub.status.busy": "2022-08-24T02:05:38.389351Z",
     "iopub.status.idle": "2022-08-24T02:05:38.399987Z",
     "shell.execute_reply": "2022-08-24T02:05:38.398634Z"
    },
    "papermill": {
     "duration": 0.031596,
     "end_time": "2022-08-24T02:05:38.403877",
     "exception": false,
     "start_time": "2022-08-24T02:05:38.372281",
     "status": "completed"
    },
    "tags": []
   },
   "outputs": [
    {
     "data": {
      "text/plain": [
       "0    549\n",
       "1    342\n",
       "Name: Survived, dtype: int64"
      ]
     },
     "execution_count": 8,
     "metadata": {},
     "output_type": "execute_result"
    }
   ],
   "source": [
    "train_df['Survived'].value_counts()"
   ]
  },
  {
   "cell_type": "markdown",
   "id": "6a38c5c2",
   "metadata": {
    "papermill": {
     "duration": 0.018071,
     "end_time": "2022-08-24T02:05:38.443623",
     "exception": false,
     "start_time": "2022-08-24T02:05:38.425552",
     "status": "completed"
    },
    "tags": []
   },
   "source": [
    "# EDA"
   ]
  },
  {
   "cell_type": "markdown",
   "id": "de1cae07",
   "metadata": {
    "papermill": {
     "duration": 0.014827,
     "end_time": "2022-08-24T02:05:38.481038",
     "exception": false,
     "start_time": "2022-08-24T02:05:38.466211",
     "status": "completed"
    },
    "tags": []
   },
   "source": [
    "****"
   ]
  },
  {
   "cell_type": "code",
   "execution_count": 9,
   "id": "80e872cd",
   "metadata": {
    "execution": {
     "iopub.execute_input": "2022-08-24T02:05:38.512628Z",
     "iopub.status.busy": "2022-08-24T02:05:38.511886Z",
     "iopub.status.idle": "2022-08-24T02:05:38.523370Z",
     "shell.execute_reply": "2022-08-24T02:05:38.522527Z"
    },
    "papermill": {
     "duration": 0.029429,
     "end_time": "2022-08-24T02:05:38.525500",
     "exception": false,
     "start_time": "2022-08-24T02:05:38.496071",
     "status": "completed"
    },
    "tags": []
   },
   "outputs": [
    {
     "data": {
      "text/plain": [
       "PassengerId    891\n",
       "Survived         2\n",
       "Pclass           3\n",
       "Name           891\n",
       "Sex              2\n",
       "Age             88\n",
       "SibSp            7\n",
       "Parch            7\n",
       "Ticket         681\n",
       "Fare           248\n",
       "Cabin          147\n",
       "Embarked         3\n",
       "dtype: int64"
      ]
     },
     "execution_count": 9,
     "metadata": {},
     "output_type": "execute_result"
    }
   ],
   "source": [
    "##checking the number of unique values in each column\n",
    "train_df.nunique()"
   ]
  },
  {
   "cell_type": "code",
   "execution_count": 10,
   "id": "e4869ee9",
   "metadata": {
    "execution": {
     "iopub.execute_input": "2022-08-24T02:05:38.556271Z",
     "iopub.status.busy": "2022-08-24T02:05:38.555569Z",
     "iopub.status.idle": "2022-08-24T02:05:38.712189Z",
     "shell.execute_reply": "2022-08-24T02:05:38.710997Z"
    },
    "papermill": {
     "duration": 0.176203,
     "end_time": "2022-08-24T02:05:38.716070",
     "exception": false,
     "start_time": "2022-08-24T02:05:38.539867",
     "status": "completed"
    },
    "tags": []
   },
   "outputs": [
    {
     "data": {
      "text/plain": [
       "<AxesSubplot:xlabel='Survived', ylabel='count'>"
      ]
     },
     "execution_count": 10,
     "metadata": {},
     "output_type": "execute_result"
    },
    {
     "data": {
      "image/png": "[encoded data removed]",
      "text/plain": [
       "<Figure size 432x288 with 1 Axes>"
      ]
     },
     "metadata": {
      "needs_background": "light"
     },
     "output_type": "display_data"
    }
   ],
   "source": [
    "##checking if the  target column survived is a imbalane or balance datast\n",
    "sns.countplot(x='Survived',data=train_df,palette='Blues')"
   ]
  },
  {
   "cell_type": "code",
   "execution_count": 11,
   "id": "3527a134",
   "metadata": {
    "execution": {
     "iopub.execute_input": "2022-08-24T02:05:38.749388Z",
     "iopub.status.busy": "2022-08-24T02:05:38.748928Z",
     "iopub.status.idle": "2022-08-24T02:05:38.763304Z",
     "shell.execute_reply": "2022-08-24T02:05:38.762194Z"
    },
    "papermill": {
     "duration": 0.033144,
     "end_time": "2022-08-24T02:05:38.765694",
     "exception": false,
     "start_time": "2022-08-24T02:05:38.732550",
     "status": "completed"
    },
    "tags": []
   },
   "outputs": [
    {
     "data": {
      "text/html": [
       "<div>\n",
       "<style scoped>\n",
       "    .dataframe tbody tr th:only-of-type {\n",
       "        vertical-align: middle;\n",
       "    }\n",
       "\n",
       "    .dataframe tbody tr th {\n",
       "        vertical-align: top;\n",
       "    }\n",
       "\n",
       "    .dataframe thead th {\n",
       "        text-align: right;\n",
       "    }\n",
       "</style>\n",
       "<table border=\"1\" class=\"dataframe\">\n",
       "  <thead>\n",
       "    <tr style=\"text-align: right;\">\n",
       "      <th></th>\n",
       "      <th>Sex</th>\n",
       "      <th>Survived</th>\n",
       "    </tr>\n",
       "  </thead>\n",
       "  <tbody>\n",
       "    <tr>\n",
       "      <th>0</th>\n",
       "      <td>female</td>\n",
       "      <td>233</td>\n",
       "    </tr>\n",
       "    <tr>\n",
       "      <th>1</th>\n",
       "      <td>male</td>\n",
       "      <td>109</td>\n",
       "    </tr>\n",
       "  </tbody>\n",
       "</table>\n",
       "</div>"
      ],
      "text/plain": [
       "      Sex  Survived\n",
       "0  female       233\n",
       "1    male       109"
      ]
     },
     "execution_count": 11,
     "metadata": {},
     "output_type": "execute_result"
    }
   ],
   "source": [
    "##checcking the the amunt of male and \n",
    "##female that survived the incident as we can see below more female survived than male\n",
    "train_df[['Survived','Sex']].groupby(['Sex'],as_index=False).sum()"
   ]
  },
  {
   "cell_type": "code",
   "execution_count": 12,
   "id": "003e6acd",
   "metadata": {
    "execution": {
     "iopub.execute_input": "2022-08-24T02:05:38.797832Z",
     "iopub.status.busy": "2022-08-24T02:05:38.797353Z",
     "iopub.status.idle": "2022-08-24T02:05:39.453308Z",
     "shell.execute_reply": "2022-08-24T02:05:39.452355Z"
    },
    "papermill": {
     "duration": 0.675027,
     "end_time": "2022-08-24T02:05:39.455749",
     "exception": false,
     "start_time": "2022-08-24T02:05:38.780722",
     "status": "completed"
    },
    "tags": []
   },
   "outputs": [
    {
     "name": "stderr",
     "output_type": "stream",
     "text": [
      "/opt/conda/lib/python3.7/site-packages/seaborn/axisgrid.py:670: UserWarning: Using the countplot function without specifying `order` is likely to produce an incorrect plot.\n",
      "  warnings.warn(warning)\n"
     ]
    },
    {
     "data": {
      "text/plain": [
       "<seaborn.axisgrid.FacetGrid at 0x7f6dbf05fd10>"
      ]
     },
     "execution_count": 12,
     "metadata": {},
     "output_type": "execute_result"
    },
    {
     "data": {
      "text/plain": [
       "<Figure size 1080x504 with 0 Axes>"
      ]
     },
     "metadata": {},
     "output_type": "display_data"
    },
    {
     "data": {
      "image/png": "[encoded data removed]",
      "text/plain": [
       "<Figure size 699.2x432 with 4 Axes>"
      ]
     },
     "metadata": {
      "needs_background": "light"
     },
     "output_type": "display_data"
    }
   ],
   "source": [
    "plt.figure(figsize=(15,7))\n",
    "g=sns.FacetGrid(train_df,row='Survived',col='Sex',aspect=1.6)\n",
    "g.map(sns.countplot,'Survived',alpha=.5)\n",
    "g.add_legend()\n"
   ]
  },
  {
   "cell_type": "code",
   "execution_count": 13,
   "id": "7e68f68c",
   "metadata": {
    "execution": {
     "iopub.execute_input": "2022-08-24T02:05:39.488975Z",
     "iopub.status.busy": "2022-08-24T02:05:39.487919Z",
     "iopub.status.idle": "2022-08-24T02:05:40.441965Z",
     "shell.execute_reply": "2022-08-24T02:05:40.440851Z"
    },
    "papermill": {
     "duration": 0.973062,
     "end_time": "2022-08-24T02:05:40.444376",
     "exception": false,
     "start_time": "2022-08-24T02:05:39.471314",
     "status": "completed"
    },
    "tags": []
   },
   "outputs": [
    {
     "name": "stderr",
     "output_type": "stream",
     "text": [
      "/opt/conda/lib/python3.7/site-packages/seaborn/axisgrid.py:670: UserWarning: Using the countplot function without specifying `order` is likely to produce an incorrect plot.\n",
      "  warnings.warn(warning)\n"
     ]
    },
    {
     "data": {
      "text/plain": [
       "<seaborn.axisgrid.FacetGrid at 0x7f6dbee43150>"
      ]
     },
     "execution_count": 13,
     "metadata": {},
     "output_type": "execute_result"
    },
    {
     "data": {
      "text/plain": [
       "<Figure size 1080x504 with 0 Axes>"
      ]
     },
     "metadata": {},
     "output_type": "display_data"
    },
    {
     "data": {
      "image/png": "[encoded data removed]",
      "text/plain": [
       "<Figure size 1044.8x432 with 6 Axes>"
      ]
     },
     "metadata": {
      "needs_background": "light"
     },
     "output_type": "display_data"
    }
   ],
   "source": [
    "\n",
    "plt.figure(figsize=(15,7))\n",
    "g=sns.FacetGrid(train_df,row='Survived',col='Pclass',aspect=1.6)\n",
    "g.map(sns.countplot,'Survived',alpha=.5)\n",
    "g.add_legend()"
   ]
  },
  {
   "cell_type": "code",
   "execution_count": 14,
   "id": "4c785047",
   "metadata": {
    "execution": {
     "iopub.execute_input": "2022-08-24T02:05:40.478990Z",
     "iopub.status.busy": "2022-08-24T02:05:40.477562Z",
     "iopub.status.idle": "2022-08-24T02:05:41.434814Z",
     "shell.execute_reply": "2022-08-24T02:05:41.433686Z"
    },
    "papermill": {
     "duration": 0.976962,
     "end_time": "2022-08-24T02:05:41.437304",
     "exception": false,
     "start_time": "2022-08-24T02:05:40.460342",
     "status": "completed"
    },
    "tags": []
   },
   "outputs": [
    {
     "name": "stderr",
     "output_type": "stream",
     "text": [
      "/opt/conda/lib/python3.7/site-packages/seaborn/axisgrid.py:670: UserWarning: Using the countplot function without specifying `order` is likely to produce an incorrect plot.\n",
      "  warnings.warn(warning)\n"
     ]
    },
    {
     "data": {
      "text/plain": [
       "<seaborn.axisgrid.FacetGrid at 0x7f6dbeba39d0>"
      ]
     },
     "execution_count": 14,
     "metadata": {},
     "output_type": "execute_result"
    },
    {
     "data": {
      "text/plain": [
       "<Figure size 1080x504 with 0 Axes>"
      ]
     },
     "metadata": {},
     "output_type": "display_data"
    },
    {
     "data": {
      "image/png": "[encoded data removed]",
      "text/plain": [
       "<Figure size 1044.8x432 with 6 Axes>"
      ]
     },
     "metadata": {
      "needs_background": "light"
     },
     "output_type": "display_data"
    }
   ],
   "source": [
    "plt.figure(figsize=(15,7))\n",
    "g=sns.FacetGrid(train_df,row='Survived',col='Embarked',aspect=1.6)\n",
    "g.map(sns.countplot,'Survived',alpha=.5)\n",
    "g.add_legend()"
   ]
  },
  {
   "cell_type": "code",
   "execution_count": 15,
   "id": "908bffc6",
   "metadata": {
    "execution": {
     "iopub.execute_input": "2022-08-24T02:05:41.472125Z",
     "iopub.status.busy": "2022-08-24T02:05:41.471726Z",
     "iopub.status.idle": "2022-08-24T02:05:41.488554Z",
     "shell.execute_reply": "2022-08-24T02:05:41.487631Z"
    },
    "papermill": {
     "duration": 0.036768,
     "end_time": "2022-08-24T02:05:41.490717",
     "exception": false,
     "start_time": "2022-08-24T02:05:41.453949",
     "status": "completed"
    },
    "tags": []
   },
   "outputs": [
    {
     "data": {
      "text/html": [
       "<div>\n",
       "<style scoped>\n",
       "    .dataframe tbody tr th:only-of-type {\n",
       "        vertical-align: middle;\n",
       "    }\n",
       "\n",
       "    .dataframe tbody tr th {\n",
       "        vertical-align: top;\n",
       "    }\n",
       "\n",
       "    .dataframe thead th {\n",
       "        text-align: right;\n",
       "    }\n",
       "</style>\n",
       "<table border=\"1\" class=\"dataframe\">\n",
       "  <thead>\n",
       "    <tr style=\"text-align: right;\">\n",
       "      <th></th>\n",
       "      <th>SibSp</th>\n",
       "      <th>Survived</th>\n",
       "    </tr>\n",
       "  </thead>\n",
       "  <tbody>\n",
       "    <tr>\n",
       "      <th>0</th>\n",
       "      <td>0</td>\n",
       "      <td>210</td>\n",
       "    </tr>\n",
       "    <tr>\n",
       "      <th>1</th>\n",
       "      <td>1</td>\n",
       "      <td>112</td>\n",
       "    </tr>\n",
       "    <tr>\n",
       "      <th>2</th>\n",
       "      <td>2</td>\n",
       "      <td>13</td>\n",
       "    </tr>\n",
       "    <tr>\n",
       "      <th>3</th>\n",
       "      <td>3</td>\n",
       "      <td>4</td>\n",
       "    </tr>\n",
       "    <tr>\n",
       "      <th>4</th>\n",
       "      <td>4</td>\n",
       "      <td>3</td>\n",
       "    </tr>\n",
       "    <tr>\n",
       "      <th>5</th>\n",
       "      <td>5</td>\n",
       "      <td>0</td>\n",
       "    </tr>\n",
       "    <tr>\n",
       "      <th>6</th>\n",
       "      <td>8</td>\n",
       "      <td>0</td>\n",
       "    </tr>\n",
       "  </tbody>\n",
       "</table>\n",
       "</div>"
      ],
      "text/plain": [
       "   SibSp  Survived\n",
       "0      0       210\n",
       "1      1       112\n",
       "2      2        13\n",
       "3      3         4\n",
       "4      4         3\n",
       "5      5         0\n",
       "6      8         0"
      ]
     },
     "execution_count": 15,
     "metadata": {},
     "output_type": "execute_result"
    }
   ],
   "source": [
    "train_df[['Survived','SibSp']].groupby(['SibSp'],as_index=False).sum()"
   ]
  },
  {
   "cell_type": "code",
   "execution_count": 16,
   "id": "59232c83",
   "metadata": {
    "execution": {
     "iopub.execute_input": "2022-08-24T02:05:41.526134Z",
     "iopub.status.busy": "2022-08-24T02:05:41.525511Z",
     "iopub.status.idle": "2022-08-24T02:05:41.538713Z",
     "shell.execute_reply": "2022-08-24T02:05:41.537484Z"
    },
    "papermill": {
     "duration": 0.033508,
     "end_time": "2022-08-24T02:05:41.541096",
     "exception": false,
     "start_time": "2022-08-24T02:05:41.507588",
     "status": "completed"
    },
    "tags": []
   },
   "outputs": [
    {
     "data": {
      "text/html": [
       "<div>\n",
       "<style scoped>\n",
       "    .dataframe tbody tr th:only-of-type {\n",
       "        vertical-align: middle;\n",
       "    }\n",
       "\n",
       "    .dataframe tbody tr th {\n",
       "        vertical-align: top;\n",
       "    }\n",
       "\n",
       "    .dataframe thead th {\n",
       "        text-align: right;\n",
       "    }\n",
       "</style>\n",
       "<table border=\"1\" class=\"dataframe\">\n",
       "  <thead>\n",
       "    <tr style=\"text-align: right;\">\n",
       "      <th></th>\n",
       "      <th>Parch</th>\n",
       "      <th>Survived</th>\n",
       "    </tr>\n",
       "  </thead>\n",
       "  <tbody>\n",
       "    <tr>\n",
       "      <th>0</th>\n",
       "      <td>0</td>\n",
       "      <td>233</td>\n",
       "    </tr>\n",
       "    <tr>\n",
       "      <th>1</th>\n",
       "      <td>1</td>\n",
       "      <td>65</td>\n",
       "    </tr>\n",
       "    <tr>\n",
       "      <th>2</th>\n",
       "      <td>2</td>\n",
       "      <td>40</td>\n",
       "    </tr>\n",
       "    <tr>\n",
       "      <th>3</th>\n",
       "      <td>3</td>\n",
       "      <td>3</td>\n",
       "    </tr>\n",
       "    <tr>\n",
       "      <th>4</th>\n",
       "      <td>4</td>\n",
       "      <td>0</td>\n",
       "    </tr>\n",
       "    <tr>\n",
       "      <th>5</th>\n",
       "      <td>5</td>\n",
       "      <td>1</td>\n",
       "    </tr>\n",
       "    <tr>\n",
       "      <th>6</th>\n",
       "      <td>6</td>\n",
       "      <td>0</td>\n",
       "    </tr>\n",
       "  </tbody>\n",
       "</table>\n",
       "</div>"
      ],
      "text/plain": [
       "   Parch  Survived\n",
       "0      0       233\n",
       "1      1        65\n",
       "2      2        40\n",
       "3      3         3\n",
       "4      4         0\n",
       "5      5         1\n",
       "6      6         0"
      ]
     },
     "execution_count": 16,
     "metadata": {},
     "output_type": "execute_result"
    }
   ],
   "source": [
    "train_df[['Survived','Parch']].groupby(['Parch'],as_index=False).sum()"
   ]
  },
  {
   "cell_type": "code",
   "execution_count": 17,
   "id": "96dda357",
   "metadata": {
    "execution": {
     "iopub.execute_input": "2022-08-24T02:05:41.576779Z",
     "iopub.status.busy": "2022-08-24T02:05:41.576000Z",
     "iopub.status.idle": "2022-08-24T02:05:41.782585Z",
     "shell.execute_reply": "2022-08-24T02:05:41.781480Z"
    },
    "papermill": {
     "duration": 0.227206,
     "end_time": "2022-08-24T02:05:41.785013",
     "exception": false,
     "start_time": "2022-08-24T02:05:41.557807",
     "status": "completed"
    },
    "tags": []
   },
   "outputs": [
    {
     "data": {
      "text/plain": [
       "<AxesSubplot:xlabel='Age', ylabel='Count'>"
      ]
     },
     "execution_count": 17,
     "metadata": {},
     "output_type": "execute_result"
    },
    {
     "data": {
      "image/png": "[encoded data removed]",
      "text/plain": [
       "<Figure size 432x288 with 1 Axes>"
      ]
     },
     "metadata": {
      "needs_background": "light"
     },
     "output_type": "display_data"
    }
   ],
   "source": [
    "sns.histplot(train_df['Age'])"
   ]
  },
  {
   "cell_type": "code",
   "execution_count": 18,
   "id": "f4bb8a28",
   "metadata": {
    "execution": {
     "iopub.execute_input": "2022-08-24T02:05:41.822276Z",
     "iopub.status.busy": "2022-08-24T02:05:41.821785Z",
     "iopub.status.idle": "2022-08-24T02:05:41.982979Z",
     "shell.execute_reply": "2022-08-24T02:05:41.981645Z"
    },
    "papermill": {
     "duration": 0.183515,
     "end_time": "2022-08-24T02:05:41.986410",
     "exception": false,
     "start_time": "2022-08-24T02:05:41.802895",
     "status": "completed"
    },
    "tags": []
   },
   "outputs": [
    {
     "data": {
      "text/html": [
       "<div>\n",
       "<style scoped>\n",
       "    .dataframe tbody tr th:only-of-type {\n",
       "        vertical-align: middle;\n",
       "    }\n",
       "\n",
       "    .dataframe tbody tr th {\n",
       "        vertical-align: top;\n",
       "    }\n",
       "\n",
       "    .dataframe thead th {\n",
       "        text-align: right;\n",
       "    }\n",
       "</style>\n",
       "<table border=\"1\" class=\"dataframe\">\n",
       "  <thead>\n",
       "    <tr style=\"text-align: right;\">\n",
       "      <th></th>\n",
       "      <th>Age</th>\n",
       "      <th>Survived</th>\n",
       "    </tr>\n",
       "  </thead>\n",
       "  <tbody>\n",
       "    <tr>\n",
       "      <th>0</th>\n",
       "      <td>0-30</td>\n",
       "      <td>166</td>\n",
       "    </tr>\n",
       "    <tr>\n",
       "      <th>1</th>\n",
       "      <td>31-50</td>\n",
       "      <td>102</td>\n",
       "    </tr>\n",
       "    <tr>\n",
       "      <th>2</th>\n",
       "      <td>51-65</td>\n",
       "      <td>21</td>\n",
       "    </tr>\n",
       "    <tr>\n",
       "      <th>3</th>\n",
       "      <td>65-inf</td>\n",
       "      <td>1</td>\n",
       "    </tr>\n",
       "  </tbody>\n",
       "</table>\n",
       "</div>"
      ],
      "text/plain": [
       "      Age  Survived\n",
       "0    0-30       166\n",
       "1   31-50       102\n",
       "2   51-65        21\n",
       "3  65-inf         1"
      ]
     },
     "execution_count": 18,
     "metadata": {},
     "output_type": "execute_result"
    },
    {
     "data": {
      "image/png": "[encoded data removed]",
      "text/plain": [
       "<Figure size 432x288 with 1 Axes>"
      ]
     },
     "metadata": {
      "needs_background": "light"
     },
     "output_type": "display_data"
    }
   ],
   "source": [
    "def transform_to_ordinal(df):\n",
    "    df.loc[ df['Age'] <= 30, 'Age'] = 0\n",
    "    df.loc[(df['Age'] > 30) & (df['Age'] <= 50), 'Age'] = 1\n",
    "    df.loc[(df['Age'] > 50) & (df['Age'] <= 65), 'Age']   = 2\n",
    "    df.loc[ df['Age'] > 65, 'Age'] = 3\n",
    "    df['Age'] = df['Age'].astype(int)\n",
    "    \n",
    "def transform_to_range(df):\n",
    "    df['Age'] = data['Age'].map({0:'0-30',1:'31-50',2:'51-65',3:'65-inf'})\n",
    "    df['Age']=df['Age'].astype(str)\n",
    "data= train_df.copy()\n",
    "data2= test_df.copy()\n",
    "data.dropna(subset=['Age'],inplace=True)\n",
    "data2.dropna(subset=['Age'],inplace=True)\n",
    "transform_to_ordinal(data)\n",
    "transform_to_ordinal(data2)\n",
    "transform_to_range(data)\n",
    "transform_to_range(data2)\n",
    "sns.countplot(data=data,x='Age')\n",
    "data[['Age','Survived']].groupby(['Age'],as_index=False).sum()\n",
    "\n",
    "    "
   ]
  },
  {
   "cell_type": "markdown",
   "id": "5d052b7e",
   "metadata": {
    "papermill": {
     "duration": 0.017492,
     "end_time": "2022-08-24T02:05:42.021637",
     "exception": false,
     "start_time": "2022-08-24T02:05:42.004145",
     "status": "completed"
    },
    "tags": []
   },
   "source": [
    "# PREPROCESSING"
   ]
  },
  {
   "cell_type": "code",
   "execution_count": 19,
   "id": "aed66bef",
   "metadata": {
    "execution": {
     "iopub.execute_input": "2022-08-24T02:05:42.059211Z",
     "iopub.status.busy": "2022-08-24T02:05:42.058149Z",
     "iopub.status.idle": "2022-08-24T02:05:42.066804Z",
     "shell.execute_reply": "2022-08-24T02:05:42.065687Z"
    },
    "papermill": {
     "duration": 0.030152,
     "end_time": "2022-08-24T02:05:42.069394",
     "exception": false,
     "start_time": "2022-08-24T02:05:42.039242",
     "status": "completed"
    },
    "tags": []
   },
   "outputs": [],
   "source": [
    "##drop features that are not going to be use by the data  passenger_id(is not needed by our model)\n",
    "##,name,'cabin(too many unique value)'ticket(too many unique value to deal with),\n",
    "def drop_features(df):\n",
    "    features_to_drop=['PassengerId', 'Name', 'Cabin','Ticket']\n",
    "    df=df.drop(features_to_drop,inplace=True,axis=1)\n",
    "    return df\n",
    "drop_features(train_df)\n",
    "drop_features(test_df)\n",
    "    "
   ]
  },
  {
   "cell_type": "code",
   "execution_count": 20,
   "id": "3f4bd177",
   "metadata": {
    "execution": {
     "iopub.execute_input": "2022-08-24T02:05:42.106281Z",
     "iopub.status.busy": "2022-08-24T02:05:42.105457Z",
     "iopub.status.idle": "2022-08-24T02:05:42.125339Z",
     "shell.execute_reply": "2022-08-24T02:05:42.123935Z"
    },
    "papermill": {
     "duration": 0.041826,
     "end_time": "2022-08-24T02:05:42.128418",
     "exception": false,
     "start_time": "2022-08-24T02:05:42.086592",
     "status": "completed"
    },
    "tags": []
   },
   "outputs": [
    {
     "data": {
      "text/html": [
       "<div>\n",
       "<style scoped>\n",
       "    .dataframe tbody tr th:only-of-type {\n",
       "        vertical-align: middle;\n",
       "    }\n",
       "\n",
       "    .dataframe tbody tr th {\n",
       "        vertical-align: top;\n",
       "    }\n",
       "\n",
       "    .dataframe thead th {\n",
       "        text-align: right;\n",
       "    }\n",
       "</style>\n",
       "<table border=\"1\" class=\"dataframe\">\n",
       "  <thead>\n",
       "    <tr style=\"text-align: right;\">\n",
       "      <th></th>\n",
       "      <th>Survived</th>\n",
       "      <th>Pclass</th>\n",
       "      <th>Sex</th>\n",
       "      <th>Age</th>\n",
       "      <th>SibSp</th>\n",
       "      <th>Parch</th>\n",
       "      <th>Fare</th>\n",
       "      <th>Embarked</th>\n",
       "    </tr>\n",
       "  </thead>\n",
       "  <tbody>\n",
       "    <tr>\n",
       "      <th>0</th>\n",
       "      <td>0</td>\n",
       "      <td>3</td>\n",
       "      <td>male</td>\n",
       "      <td>22.0</td>\n",
       "      <td>1</td>\n",
       "      <td>0</td>\n",
       "      <td>7.2500</td>\n",
       "      <td>S</td>\n",
       "    </tr>\n",
       "    <tr>\n",
       "      <th>1</th>\n",
       "      <td>1</td>\n",
       "      <td>1</td>\n",
       "      <td>female</td>\n",
       "      <td>38.0</td>\n",
       "      <td>1</td>\n",
       "      <td>0</td>\n",
       "      <td>71.2833</td>\n",
       "      <td>C</td>\n",
       "    </tr>\n",
       "    <tr>\n",
       "      <th>2</th>\n",
       "      <td>1</td>\n",
       "      <td>3</td>\n",
       "      <td>female</td>\n",
       "      <td>26.0</td>\n",
       "      <td>0</td>\n",
       "      <td>0</td>\n",
       "      <td>7.9250</td>\n",
       "      <td>S</td>\n",
       "    </tr>\n",
       "    <tr>\n",
       "      <th>3</th>\n",
       "      <td>1</td>\n",
       "      <td>1</td>\n",
       "      <td>female</td>\n",
       "      <td>35.0</td>\n",
       "      <td>1</td>\n",
       "      <td>0</td>\n",
       "      <td>53.1000</td>\n",
       "      <td>S</td>\n",
       "    </tr>\n",
       "    <tr>\n",
       "      <th>4</th>\n",
       "      <td>0</td>\n",
       "      <td>3</td>\n",
       "      <td>male</td>\n",
       "      <td>35.0</td>\n",
       "      <td>0</td>\n",
       "      <td>0</td>\n",
       "      <td>8.0500</td>\n",
       "      <td>S</td>\n",
       "    </tr>\n",
       "    <tr>\n",
       "      <th>...</th>\n",
       "      <td>...</td>\n",
       "      <td>...</td>\n",
       "      <td>...</td>\n",
       "      <td>...</td>\n",
       "      <td>...</td>\n",
       "      <td>...</td>\n",
       "      <td>...</td>\n",
       "      <td>...</td>\n",
       "    </tr>\n",
       "    <tr>\n",
       "      <th>886</th>\n",
       "      <td>0</td>\n",
       "      <td>2</td>\n",
       "      <td>male</td>\n",
       "      <td>27.0</td>\n",
       "      <td>0</td>\n",
       "      <td>0</td>\n",
       "      <td>13.0000</td>\n",
       "      <td>S</td>\n",
       "    </tr>\n",
       "    <tr>\n",
       "      <th>887</th>\n",
       "      <td>1</td>\n",
       "      <td>1</td>\n",
       "      <td>female</td>\n",
       "      <td>19.0</td>\n",
       "      <td>0</td>\n",
       "      <td>0</td>\n",
       "      <td>30.0000</td>\n",
       "      <td>S</td>\n",
       "    </tr>\n",
       "    <tr>\n",
       "      <th>888</th>\n",
       "      <td>0</td>\n",
       "      <td>3</td>\n",
       "      <td>female</td>\n",
       "      <td>NaN</td>\n",
       "      <td>1</td>\n",
       "      <td>2</td>\n",
       "      <td>23.4500</td>\n",
       "      <td>S</td>\n",
       "    </tr>\n",
       "    <tr>\n",
       "      <th>889</th>\n",
       "      <td>1</td>\n",
       "      <td>1</td>\n",
       "      <td>male</td>\n",
       "      <td>26.0</td>\n",
       "      <td>0</td>\n",
       "      <td>0</td>\n",
       "      <td>30.0000</td>\n",
       "      <td>C</td>\n",
       "    </tr>\n",
       "    <tr>\n",
       "      <th>890</th>\n",
       "      <td>0</td>\n",
       "      <td>3</td>\n",
       "      <td>male</td>\n",
       "      <td>32.0</td>\n",
       "      <td>0</td>\n",
       "      <td>0</td>\n",
       "      <td>7.7500</td>\n",
       "      <td>Q</td>\n",
       "    </tr>\n",
       "  </tbody>\n",
       "</table>\n",
       "<p>891 rows × 8 columns</p>\n",
       "</div>"
      ],
      "text/plain": [
       "     Survived  Pclass     Sex   Age  SibSp  Parch     Fare Embarked\n",
       "0           0       3    male  22.0      1      0   7.2500        S\n",
       "1           1       1  female  38.0      1      0  71.2833        C\n",
       "2           1       3  female  26.0      0      0   7.9250        S\n",
       "3           1       1  female  35.0      1      0  53.1000        S\n",
       "4           0       3    male  35.0      0      0   8.0500        S\n",
       "..        ...     ...     ...   ...    ...    ...      ...      ...\n",
       "886         0       2    male  27.0      0      0  13.0000        S\n",
       "887         1       1  female  19.0      0      0  30.0000        S\n",
       "888         0       3  female   NaN      1      2  23.4500        S\n",
       "889         1       1    male  26.0      0      0  30.0000        C\n",
       "890         0       3    male  32.0      0      0   7.7500        Q\n",
       "\n",
       "[891 rows x 8 columns]"
      ]
     },
     "execution_count": 20,
     "metadata": {},
     "output_type": "execute_result"
    }
   ],
   "source": [
    "train_df\n"
   ]
  },
  {
   "cell_type": "code",
   "execution_count": 21,
   "id": "b1c31cf1",
   "metadata": {
    "execution": {
     "iopub.execute_input": "2022-08-24T02:05:42.166881Z",
     "iopub.status.busy": "2022-08-24T02:05:42.166159Z",
     "iopub.status.idle": "2022-08-24T02:05:42.176629Z",
     "shell.execute_reply": "2022-08-24T02:05:42.175558Z"
    },
    "papermill": {
     "duration": 0.032387,
     "end_time": "2022-08-24T02:05:42.179104",
     "exception": false,
     "start_time": "2022-08-24T02:05:42.146717",
     "status": "completed"
    },
    "tags": []
   },
   "outputs": [
    {
     "data": {
      "text/plain": [
       "Survived      0\n",
       "Pclass        0\n",
       "Sex           0\n",
       "Age         177\n",
       "SibSp         0\n",
       "Parch         0\n",
       "Fare          0\n",
       "Embarked      2\n",
       "dtype: int64"
      ]
     },
     "execution_count": 21,
     "metadata": {},
     "output_type": "execute_result"
    }
   ],
   "source": [
    "##checking the  column with null values\n",
    "train_df.isnull().sum()"
   ]
  },
  {
   "cell_type": "code",
   "execution_count": 22,
   "id": "e82ec47b",
   "metadata": {
    "execution": {
     "iopub.execute_input": "2022-08-24T02:05:42.217806Z",
     "iopub.status.busy": "2022-08-24T02:05:42.216965Z",
     "iopub.status.idle": "2022-08-24T02:05:42.228485Z",
     "shell.execute_reply": "2022-08-24T02:05:42.227352Z"
    },
    "papermill": {
     "duration": 0.034036,
     "end_time": "2022-08-24T02:05:42.231244",
     "exception": false,
     "start_time": "2022-08-24T02:05:42.197208",
     "status": "completed"
    },
    "tags": []
   },
   "outputs": [],
   "source": [
    "# i dropped the null values of embarked because there only 0.22% of the dataset\n",
    "train_df.loc[train_df['Embarked'].isnull()]\n",
    "train_df.dropna(subset=['Embarked'],inplace=True)\n",
    "test_df.dropna(subset=['Embarked'],inplace=True)"
   ]
  },
  {
   "cell_type": "code",
   "execution_count": 23,
   "id": "580444c6",
   "metadata": {
    "execution": {
     "iopub.execute_input": "2022-08-24T02:05:42.269574Z",
     "iopub.status.busy": "2022-08-24T02:05:42.268792Z",
     "iopub.status.idle": "2022-08-24T02:05:42.278559Z",
     "shell.execute_reply": "2022-08-24T02:05:42.277442Z"
    },
    "papermill": {
     "duration": 0.031514,
     "end_time": "2022-08-24T02:05:42.280892",
     "exception": false,
     "start_time": "2022-08-24T02:05:42.249378",
     "status": "completed"
    },
    "tags": []
   },
   "outputs": [
    {
     "data": {
      "text/plain": [
       "Survived      0\n",
       "Pclass        0\n",
       "Sex           0\n",
       "Age         177\n",
       "SibSp         0\n",
       "Parch         0\n",
       "Fare          0\n",
       "Embarked      0\n",
       "dtype: int64"
      ]
     },
     "execution_count": 23,
     "metadata": {},
     "output_type": "execute_result"
    }
   ],
   "source": [
    "train_df.isnull().sum()"
   ]
  },
  {
   "cell_type": "code",
   "execution_count": 24,
   "id": "13b64704",
   "metadata": {
    "execution": {
     "iopub.execute_input": "2022-08-24T02:05:42.318498Z",
     "iopub.status.busy": "2022-08-24T02:05:42.318076Z",
     "iopub.status.idle": "2022-08-24T02:05:42.325015Z",
     "shell.execute_reply": "2022-08-24T02:05:42.323743Z"
    },
    "papermill": {
     "duration": 0.029296,
     "end_time": "2022-08-24T02:05:42.328146",
     "exception": false,
     "start_time": "2022-08-24T02:05:42.298850",
     "status": "completed"
    },
    "tags": []
   },
   "outputs": [],
   "source": [
    "# i filled my age null value with the meadian of the dataset\n",
    "def fillna_age(data1,data2):\n",
    "    dataset = pd.concat([data1['Age'],data2['Age']],axis=0,ignore_index=True)\n",
    "    median_age=dataset.median().astype(int)\n",
    "    data1['Age']=data1['Age'].fillna(median_age).astype(int)\n",
    "    data2['Age']=data2['Age'].fillna(median_age).astype(int)\n",
    "    "
   ]
  },
  {
   "cell_type": "code",
   "execution_count": 25,
   "id": "ef5d4f2c",
   "metadata": {
    "execution": {
     "iopub.execute_input": "2022-08-24T02:05:42.365918Z",
     "iopub.status.busy": "2022-08-24T02:05:42.365384Z",
     "iopub.status.idle": "2022-08-24T02:05:42.374293Z",
     "shell.execute_reply": "2022-08-24T02:05:42.373154Z"
    },
    "papermill": {
     "duration": 0.030853,
     "end_time": "2022-08-24T02:05:42.376954",
     "exception": false,
     "start_time": "2022-08-24T02:05:42.346101",
     "status": "completed"
    },
    "tags": []
   },
   "outputs": [],
   "source": [
    "fillna_age(train_df,test_df)"
   ]
  },
  {
   "cell_type": "code",
   "execution_count": 26,
   "id": "66e93395",
   "metadata": {
    "execution": {
     "iopub.execute_input": "2022-08-24T02:05:42.416024Z",
     "iopub.status.busy": "2022-08-24T02:05:42.415598Z",
     "iopub.status.idle": "2022-08-24T02:05:42.426316Z",
     "shell.execute_reply": "2022-08-24T02:05:42.425148Z"
    },
    "papermill": {
     "duration": 0.03313,
     "end_time": "2022-08-24T02:05:42.428711",
     "exception": false,
     "start_time": "2022-08-24T02:05:42.395581",
     "status": "completed"
    },
    "tags": []
   },
   "outputs": [
    {
     "data": {
      "text/plain": [
       "Survived    0\n",
       "Pclass      0\n",
       "Sex         0\n",
       "Age         0\n",
       "SibSp       0\n",
       "Parch       0\n",
       "Fare        0\n",
       "Embarked    0\n",
       "dtype: int64"
      ]
     },
     "execution_count": 26,
     "metadata": {},
     "output_type": "execute_result"
    }
   ],
   "source": [
    "train_df.isnull().sum()\n"
   ]
  },
  {
   "cell_type": "code",
   "execution_count": 27,
   "id": "cfd688d7",
   "metadata": {
    "execution": {
     "iopub.execute_input": "2022-08-24T02:05:42.467071Z",
     "iopub.status.busy": "2022-08-24T02:05:42.466625Z",
     "iopub.status.idle": "2022-08-24T02:05:42.486427Z",
     "shell.execute_reply": "2022-08-24T02:05:42.485267Z"
    },
    "papermill": {
     "duration": 0.041724,
     "end_time": "2022-08-24T02:05:42.488768",
     "exception": false,
     "start_time": "2022-08-24T02:05:42.447044",
     "status": "completed"
    },
    "tags": []
   },
   "outputs": [
    {
     "data": {
      "text/html": [
       "<div>\n",
       "<style scoped>\n",
       "    .dataframe tbody tr th:only-of-type {\n",
       "        vertical-align: middle;\n",
       "    }\n",
       "\n",
       "    .dataframe tbody tr th {\n",
       "        vertical-align: top;\n",
       "    }\n",
       "\n",
       "    .dataframe thead th {\n",
       "        text-align: right;\n",
       "    }\n",
       "</style>\n",
       "<table border=\"1\" class=\"dataframe\">\n",
       "  <thead>\n",
       "    <tr style=\"text-align: right;\">\n",
       "      <th></th>\n",
       "      <th>Survived</th>\n",
       "      <th>Pclass</th>\n",
       "      <th>Sex</th>\n",
       "      <th>Age</th>\n",
       "      <th>SibSp</th>\n",
       "      <th>Parch</th>\n",
       "      <th>Fare</th>\n",
       "      <th>Embarked</th>\n",
       "    </tr>\n",
       "  </thead>\n",
       "  <tbody>\n",
       "    <tr>\n",
       "      <th>0</th>\n",
       "      <td>0</td>\n",
       "      <td>3</td>\n",
       "      <td>male</td>\n",
       "      <td>22</td>\n",
       "      <td>1</td>\n",
       "      <td>0</td>\n",
       "      <td>7.2500</td>\n",
       "      <td>S</td>\n",
       "    </tr>\n",
       "    <tr>\n",
       "      <th>1</th>\n",
       "      <td>1</td>\n",
       "      <td>1</td>\n",
       "      <td>female</td>\n",
       "      <td>38</td>\n",
       "      <td>1</td>\n",
       "      <td>0</td>\n",
       "      <td>71.2833</td>\n",
       "      <td>C</td>\n",
       "    </tr>\n",
       "    <tr>\n",
       "      <th>2</th>\n",
       "      <td>1</td>\n",
       "      <td>3</td>\n",
       "      <td>female</td>\n",
       "      <td>26</td>\n",
       "      <td>0</td>\n",
       "      <td>0</td>\n",
       "      <td>7.9250</td>\n",
       "      <td>S</td>\n",
       "    </tr>\n",
       "    <tr>\n",
       "      <th>3</th>\n",
       "      <td>1</td>\n",
       "      <td>1</td>\n",
       "      <td>female</td>\n",
       "      <td>35</td>\n",
       "      <td>1</td>\n",
       "      <td>0</td>\n",
       "      <td>53.1000</td>\n",
       "      <td>S</td>\n",
       "    </tr>\n",
       "    <tr>\n",
       "      <th>4</th>\n",
       "      <td>0</td>\n",
       "      <td>3</td>\n",
       "      <td>male</td>\n",
       "      <td>35</td>\n",
       "      <td>0</td>\n",
       "      <td>0</td>\n",
       "      <td>8.0500</td>\n",
       "      <td>S</td>\n",
       "    </tr>\n",
       "    <tr>\n",
       "      <th>...</th>\n",
       "      <td>...</td>\n",
       "      <td>...</td>\n",
       "      <td>...</td>\n",
       "      <td>...</td>\n",
       "      <td>...</td>\n",
       "      <td>...</td>\n",
       "      <td>...</td>\n",
       "      <td>...</td>\n",
       "    </tr>\n",
       "    <tr>\n",
       "      <th>886</th>\n",
       "      <td>0</td>\n",
       "      <td>2</td>\n",
       "      <td>male</td>\n",
       "      <td>27</td>\n",
       "      <td>0</td>\n",
       "      <td>0</td>\n",
       "      <td>13.0000</td>\n",
       "      <td>S</td>\n",
       "    </tr>\n",
       "    <tr>\n",
       "      <th>887</th>\n",
       "      <td>1</td>\n",
       "      <td>1</td>\n",
       "      <td>female</td>\n",
       "      <td>19</td>\n",
       "      <td>0</td>\n",
       "      <td>0</td>\n",
       "      <td>30.0000</td>\n",
       "      <td>S</td>\n",
       "    </tr>\n",
       "    <tr>\n",
       "      <th>888</th>\n",
       "      <td>0</td>\n",
       "      <td>3</td>\n",
       "      <td>female</td>\n",
       "      <td>28</td>\n",
       "      <td>1</td>\n",
       "      <td>2</td>\n",
       "      <td>23.4500</td>\n",
       "      <td>S</td>\n",
       "    </tr>\n",
       "    <tr>\n",
       "      <th>889</th>\n",
       "      <td>1</td>\n",
       "      <td>1</td>\n",
       "      <td>male</td>\n",
       "      <td>26</td>\n",
       "      <td>0</td>\n",
       "      <td>0</td>\n",
       "      <td>30.0000</td>\n",
       "      <td>C</td>\n",
       "    </tr>\n",
       "    <tr>\n",
       "      <th>890</th>\n",
       "      <td>0</td>\n",
       "      <td>3</td>\n",
       "      <td>male</td>\n",
       "      <td>32</td>\n",
       "      <td>0</td>\n",
       "      <td>0</td>\n",
       "      <td>7.7500</td>\n",
       "      <td>Q</td>\n",
       "    </tr>\n",
       "  </tbody>\n",
       "</table>\n",
       "<p>889 rows × 8 columns</p>\n",
       "</div>"
      ],
      "text/plain": [
       "     Survived  Pclass     Sex  Age  SibSp  Parch     Fare Embarked\n",
       "0           0       3    male   22      1      0   7.2500        S\n",
       "1           1       1  female   38      1      0  71.2833        C\n",
       "2           1       3  female   26      0      0   7.9250        S\n",
       "3           1       1  female   35      1      0  53.1000        S\n",
       "4           0       3    male   35      0      0   8.0500        S\n",
       "..        ...     ...     ...  ...    ...    ...      ...      ...\n",
       "886         0       2    male   27      0      0  13.0000        S\n",
       "887         1       1  female   19      0      0  30.0000        S\n",
       "888         0       3  female   28      1      2  23.4500        S\n",
       "889         1       1    male   26      0      0  30.0000        C\n",
       "890         0       3    male   32      0      0   7.7500        Q\n",
       "\n",
       "[889 rows x 8 columns]"
      ]
     },
     "execution_count": 27,
     "metadata": {},
     "output_type": "execute_result"
    }
   ],
   "source": [
    "train_df"
   ]
  },
  {
   "cell_type": "code",
   "execution_count": 28,
   "id": "4ee318e5",
   "metadata": {
    "execution": {
     "iopub.execute_input": "2022-08-24T02:05:42.527987Z",
     "iopub.status.busy": "2022-08-24T02:05:42.527554Z",
     "iopub.status.idle": "2022-08-24T02:05:42.536480Z",
     "shell.execute_reply": "2022-08-24T02:05:42.535209Z"
    },
    "papermill": {
     "duration": 0.031668,
     "end_time": "2022-08-24T02:05:42.539021",
     "exception": false,
     "start_time": "2022-08-24T02:05:42.507353",
     "status": "completed"
    },
    "tags": []
   },
   "outputs": [],
   "source": [
    "# mapped my sex columns male:0 and female:1\n",
    "def map_sex(df):\n",
    "    df['Sex']=df['Sex'].map({'male':0,'female':1})\n",
    "map_sex(train_df)\n",
    "map_sex(test_df)"
   ]
  },
  {
   "cell_type": "code",
   "execution_count": 29,
   "id": "2415f16b",
   "metadata": {
    "execution": {
     "iopub.execute_input": "2022-08-24T02:05:42.578867Z",
     "iopub.status.busy": "2022-08-24T02:05:42.578364Z",
     "iopub.status.idle": "2022-08-24T02:05:42.729294Z",
     "shell.execute_reply": "2022-08-24T02:05:42.728413Z"
    },
    "papermill": {
     "duration": 0.173813,
     "end_time": "2022-08-24T02:05:42.731720",
     "exception": false,
     "start_time": "2022-08-24T02:05:42.557907",
     "status": "completed"
    },
    "tags": []
   },
   "outputs": [
    {
     "data": {
      "text/html": [
       "<div>\n",
       "<style scoped>\n",
       "    .dataframe tbody tr th:only-of-type {\n",
       "        vertical-align: middle;\n",
       "    }\n",
       "\n",
       "    .dataframe tbody tr th {\n",
       "        vertical-align: top;\n",
       "    }\n",
       "\n",
       "    .dataframe thead th {\n",
       "        text-align: right;\n",
       "    }\n",
       "</style>\n",
       "<table border=\"1\" class=\"dataframe\">\n",
       "  <thead>\n",
       "    <tr style=\"text-align: right;\">\n",
       "      <th></th>\n",
       "      <th>Pclass</th>\n",
       "      <th>Sex</th>\n",
       "      <th>Age</th>\n",
       "      <th>SibSp</th>\n",
       "      <th>Parch</th>\n",
       "      <th>Fare</th>\n",
       "      <th>Embarked</th>\n",
       "    </tr>\n",
       "  </thead>\n",
       "  <tbody>\n",
       "    <tr>\n",
       "      <th>0</th>\n",
       "      <td>3</td>\n",
       "      <td>0</td>\n",
       "      <td>34</td>\n",
       "      <td>0</td>\n",
       "      <td>0</td>\n",
       "      <td>7.8292</td>\n",
       "      <td>Q</td>\n",
       "    </tr>\n",
       "    <tr>\n",
       "      <th>1</th>\n",
       "      <td>3</td>\n",
       "      <td>1</td>\n",
       "      <td>47</td>\n",
       "      <td>1</td>\n",
       "      <td>0</td>\n",
       "      <td>7.0000</td>\n",
       "      <td>S</td>\n",
       "    </tr>\n",
       "    <tr>\n",
       "      <th>2</th>\n",
       "      <td>2</td>\n",
       "      <td>0</td>\n",
       "      <td>62</td>\n",
       "      <td>0</td>\n",
       "      <td>0</td>\n",
       "      <td>9.6875</td>\n",
       "      <td>Q</td>\n",
       "    </tr>\n",
       "    <tr>\n",
       "      <th>3</th>\n",
       "      <td>3</td>\n",
       "      <td>0</td>\n",
       "      <td>27</td>\n",
       "      <td>0</td>\n",
       "      <td>0</td>\n",
       "      <td>8.6625</td>\n",
       "      <td>S</td>\n",
       "    </tr>\n",
       "    <tr>\n",
       "      <th>4</th>\n",
       "      <td>3</td>\n",
       "      <td>1</td>\n",
       "      <td>22</td>\n",
       "      <td>1</td>\n",
       "      <td>1</td>\n",
       "      <td>12.2875</td>\n",
       "      <td>S</td>\n",
       "    </tr>\n",
       "    <tr>\n",
       "      <th>...</th>\n",
       "      <td>...</td>\n",
       "      <td>...</td>\n",
       "      <td>...</td>\n",
       "      <td>...</td>\n",
       "      <td>...</td>\n",
       "      <td>...</td>\n",
       "      <td>...</td>\n",
       "    </tr>\n",
       "    <tr>\n",
       "      <th>413</th>\n",
       "      <td>3</td>\n",
       "      <td>0</td>\n",
       "      <td>28</td>\n",
       "      <td>0</td>\n",
       "      <td>0</td>\n",
       "      <td>8.0500</td>\n",
       "      <td>S</td>\n",
       "    </tr>\n",
       "    <tr>\n",
       "      <th>414</th>\n",
       "      <td>1</td>\n",
       "      <td>1</td>\n",
       "      <td>39</td>\n",
       "      <td>0</td>\n",
       "      <td>0</td>\n",
       "      <td>108.9000</td>\n",
       "      <td>C</td>\n",
       "    </tr>\n",
       "    <tr>\n",
       "      <th>415</th>\n",
       "      <td>3</td>\n",
       "      <td>0</td>\n",
       "      <td>38</td>\n",
       "      <td>0</td>\n",
       "      <td>0</td>\n",
       "      <td>7.2500</td>\n",
       "      <td>S</td>\n",
       "    </tr>\n",
       "    <tr>\n",
       "      <th>416</th>\n",
       "      <td>3</td>\n",
       "      <td>0</td>\n",
       "      <td>28</td>\n",
       "      <td>0</td>\n",
       "      <td>0</td>\n",
       "      <td>8.0500</td>\n",
       "      <td>S</td>\n",
       "    </tr>\n",
       "    <tr>\n",
       "      <th>417</th>\n",
       "      <td>3</td>\n",
       "      <td>0</td>\n",
       "      <td>28</td>\n",
       "      <td>1</td>\n",
       "      <td>1</td>\n",
       "      <td>22.3583</td>\n",
       "      <td>C</td>\n",
       "    </tr>\n",
       "  </tbody>\n",
       "</table>\n",
       "<p>418 rows × 7 columns</p>\n",
       "</div>"
      ],
      "text/plain": [
       "     Pclass  Sex  Age  SibSp  Parch      Fare Embarked\n",
       "0         3    0   34      0      0    7.8292        Q\n",
       "1         3    1   47      1      0    7.0000        S\n",
       "2         2    0   62      0      0    9.6875        Q\n",
       "3         3    0   27      0      0    8.6625        S\n",
       "4         3    1   22      1      1   12.2875        S\n",
       "..      ...  ...  ...    ...    ...       ...      ...\n",
       "413       3    0   28      0      0    8.0500        S\n",
       "414       1    1   39      0      0  108.9000        C\n",
       "415       3    0   38      0      0    7.2500        S\n",
       "416       3    0   28      0      0    8.0500        S\n",
       "417       3    0   28      1      1   22.3583        C\n",
       "\n",
       "[418 rows x 7 columns]"
      ]
     },
     "execution_count": 29,
     "metadata": {},
     "output_type": "execute_result"
    }
   ],
   "source": [
    "test_df"
   ]
  },
  {
   "cell_type": "code",
   "execution_count": 30,
   "id": "33b5be85",
   "metadata": {
    "execution": {
     "iopub.execute_input": "2022-08-24T02:05:42.773083Z",
     "iopub.status.busy": "2022-08-24T02:05:42.772680Z",
     "iopub.status.idle": "2022-08-24T02:05:42.789061Z",
     "shell.execute_reply": "2022-08-24T02:05:42.787875Z"
    },
    "papermill": {
     "duration": 0.040175,
     "end_time": "2022-08-24T02:05:42.791756",
     "exception": false,
     "start_time": "2022-08-24T02:05:42.751581",
     "status": "completed"
    },
    "tags": []
   },
   "outputs": [
    {
     "data": {
      "text/html": [
       "<div>\n",
       "<style scoped>\n",
       "    .dataframe tbody tr th:only-of-type {\n",
       "        vertical-align: middle;\n",
       "    }\n",
       "\n",
       "    .dataframe tbody tr th {\n",
       "        vertical-align: top;\n",
       "    }\n",
       "\n",
       "    .dataframe thead th {\n",
       "        text-align: right;\n",
       "    }\n",
       "</style>\n",
       "<table border=\"1\" class=\"dataframe\">\n",
       "  <thead>\n",
       "    <tr style=\"text-align: right;\">\n",
       "      <th></th>\n",
       "      <th>Embarked</th>\n",
       "      <th>Survived</th>\n",
       "    </tr>\n",
       "  </thead>\n",
       "  <tbody>\n",
       "    <tr>\n",
       "      <th>0</th>\n",
       "      <td>C</td>\n",
       "      <td>93</td>\n",
       "    </tr>\n",
       "    <tr>\n",
       "      <th>1</th>\n",
       "      <td>Q</td>\n",
       "      <td>30</td>\n",
       "    </tr>\n",
       "    <tr>\n",
       "      <th>2</th>\n",
       "      <td>S</td>\n",
       "      <td>217</td>\n",
       "    </tr>\n",
       "  </tbody>\n",
       "</table>\n",
       "</div>"
      ],
      "text/plain": [
       "  Embarked  Survived\n",
       "0        C        93\n",
       "1        Q        30\n",
       "2        S       217"
      ]
     },
     "execution_count": 30,
     "metadata": {},
     "output_type": "execute_result"
    }
   ],
   "source": [
    "train_df[['Embarked','Survived']].groupby(['Embarked'],as_index=False,).sum()"
   ]
  },
  {
   "cell_type": "code",
   "execution_count": 31,
   "id": "fc5152ef",
   "metadata": {
    "execution": {
     "iopub.execute_input": "2022-08-24T02:05:42.832149Z",
     "iopub.status.busy": "2022-08-24T02:05:42.831713Z",
     "iopub.status.idle": "2022-08-24T02:05:42.840064Z",
     "shell.execute_reply": "2022-08-24T02:05:42.838926Z"
    },
    "papermill": {
     "duration": 0.031334,
     "end_time": "2022-08-24T02:05:42.842278",
     "exception": false,
     "start_time": "2022-08-24T02:05:42.810944",
     "status": "completed"
    },
    "tags": []
   },
   "outputs": [],
   "source": [
    "# mapped my embarked column 'Q':0,'C':1,'S':2\n",
    "def embarked_encode(df):\n",
    "    df['Embarked']=df['Embarked'].map({'Q':0,'C':1,'S':2})\n",
    "embarked_encode(train_df)\n",
    "embarked_encode(test_df)\n",
    "\n"
   ]
  },
  {
   "cell_type": "code",
   "execution_count": 32,
   "id": "04608436",
   "metadata": {
    "execution": {
     "iopub.execute_input": "2022-08-24T02:05:42.883313Z",
     "iopub.status.busy": "2022-08-24T02:05:42.882886Z",
     "iopub.status.idle": "2022-08-24T02:05:42.900981Z",
     "shell.execute_reply": "2022-08-24T02:05:42.899752Z"
    },
    "papermill": {
     "duration": 0.041366,
     "end_time": "2022-08-24T02:05:42.903514",
     "exception": false,
     "start_time": "2022-08-24T02:05:42.862148",
     "status": "completed"
    },
    "tags": []
   },
   "outputs": [],
   "source": [
    "## encode my  sibsp ,parch to ordinal features\n",
    "def  enconde_ordinal_fetures(df):\n",
    "    df.loc[df['SibSp'] == 0, 'SibSp'] = 0\n",
    "    df.loc[(df['SibSp'] >= 1) & (df['SibSp'] <= 2), 'SibSp'] = 1\n",
    "    df.loc[df['SibSp'] >= 3, 'SibSp'] = 2\n",
    "    \n",
    "    df.loc[df['Parch'] == 0, 'Parch'] = 0\n",
    "    df.loc[(df['Parch'] >= 1) & (df['Parch'] <= 2), 'Parch'] = 1\n",
    "    df.loc[df['Parch'] >= 3, 'Parch'] = 2\n",
    "\n",
    "enconde_ordinal_fetures(test_df)\n",
    "enconde_ordinal_fetures(train_df)\n",
    "    \n",
    "\n",
    "    \n",
    "    "
   ]
  },
  {
   "cell_type": "code",
   "execution_count": 33,
   "id": "94a14f17",
   "metadata": {
    "execution": {
     "iopub.execute_input": "2022-08-24T02:05:42.943280Z",
     "iopub.status.busy": "2022-08-24T02:05:42.942827Z",
     "iopub.status.idle": "2022-08-24T02:05:42.959786Z",
     "shell.execute_reply": "2022-08-24T02:05:42.958796Z"
    },
    "papermill": {
     "duration": 0.039818,
     "end_time": "2022-08-24T02:05:42.962184",
     "exception": false,
     "start_time": "2022-08-24T02:05:42.922366",
     "status": "completed"
    },
    "tags": []
   },
   "outputs": [
    {
     "data": {
      "text/html": [
       "<div>\n",
       "<style scoped>\n",
       "    .dataframe tbody tr th:only-of-type {\n",
       "        vertical-align: middle;\n",
       "    }\n",
       "\n",
       "    .dataframe tbody tr th {\n",
       "        vertical-align: top;\n",
       "    }\n",
       "\n",
       "    .dataframe thead th {\n",
       "        text-align: right;\n",
       "    }\n",
       "</style>\n",
       "<table border=\"1\" class=\"dataframe\">\n",
       "  <thead>\n",
       "    <tr style=\"text-align: right;\">\n",
       "      <th></th>\n",
       "      <th>Survived</th>\n",
       "      <th>Pclass</th>\n",
       "      <th>Sex</th>\n",
       "      <th>Age</th>\n",
       "      <th>SibSp</th>\n",
       "      <th>Parch</th>\n",
       "      <th>Fare</th>\n",
       "      <th>Embarked</th>\n",
       "    </tr>\n",
       "  </thead>\n",
       "  <tbody>\n",
       "    <tr>\n",
       "      <th>0</th>\n",
       "      <td>0</td>\n",
       "      <td>3</td>\n",
       "      <td>0</td>\n",
       "      <td>22</td>\n",
       "      <td>1</td>\n",
       "      <td>0</td>\n",
       "      <td>7.2500</td>\n",
       "      <td>2</td>\n",
       "    </tr>\n",
       "    <tr>\n",
       "      <th>1</th>\n",
       "      <td>1</td>\n",
       "      <td>1</td>\n",
       "      <td>1</td>\n",
       "      <td>38</td>\n",
       "      <td>1</td>\n",
       "      <td>0</td>\n",
       "      <td>71.2833</td>\n",
       "      <td>1</td>\n",
       "    </tr>\n",
       "    <tr>\n",
       "      <th>2</th>\n",
       "      <td>1</td>\n",
       "      <td>3</td>\n",
       "      <td>1</td>\n",
       "      <td>26</td>\n",
       "      <td>0</td>\n",
       "      <td>0</td>\n",
       "      <td>7.9250</td>\n",
       "      <td>2</td>\n",
       "    </tr>\n",
       "    <tr>\n",
       "      <th>3</th>\n",
       "      <td>1</td>\n",
       "      <td>1</td>\n",
       "      <td>1</td>\n",
       "      <td>35</td>\n",
       "      <td>1</td>\n",
       "      <td>0</td>\n",
       "      <td>53.1000</td>\n",
       "      <td>2</td>\n",
       "    </tr>\n",
       "    <tr>\n",
       "      <th>4</th>\n",
       "      <td>0</td>\n",
       "      <td>3</td>\n",
       "      <td>0</td>\n",
       "      <td>35</td>\n",
       "      <td>0</td>\n",
       "      <td>0</td>\n",
       "      <td>8.0500</td>\n",
       "      <td>2</td>\n",
       "    </tr>\n",
       "    <tr>\n",
       "      <th>...</th>\n",
       "      <td>...</td>\n",
       "      <td>...</td>\n",
       "      <td>...</td>\n",
       "      <td>...</td>\n",
       "      <td>...</td>\n",
       "      <td>...</td>\n",
       "      <td>...</td>\n",
       "      <td>...</td>\n",
       "    </tr>\n",
       "    <tr>\n",
       "      <th>886</th>\n",
       "      <td>0</td>\n",
       "      <td>2</td>\n",
       "      <td>0</td>\n",
       "      <td>27</td>\n",
       "      <td>0</td>\n",
       "      <td>0</td>\n",
       "      <td>13.0000</td>\n",
       "      <td>2</td>\n",
       "    </tr>\n",
       "    <tr>\n",
       "      <th>887</th>\n",
       "      <td>1</td>\n",
       "      <td>1</td>\n",
       "      <td>1</td>\n",
       "      <td>19</td>\n",
       "      <td>0</td>\n",
       "      <td>0</td>\n",
       "      <td>30.0000</td>\n",
       "      <td>2</td>\n",
       "    </tr>\n",
       "    <tr>\n",
       "      <th>888</th>\n",
       "      <td>0</td>\n",
       "      <td>3</td>\n",
       "      <td>1</td>\n",
       "      <td>28</td>\n",
       "      <td>1</td>\n",
       "      <td>1</td>\n",
       "      <td>23.4500</td>\n",
       "      <td>2</td>\n",
       "    </tr>\n",
       "    <tr>\n",
       "      <th>889</th>\n",
       "      <td>1</td>\n",
       "      <td>1</td>\n",
       "      <td>0</td>\n",
       "      <td>26</td>\n",
       "      <td>0</td>\n",
       "      <td>0</td>\n",
       "      <td>30.0000</td>\n",
       "      <td>1</td>\n",
       "    </tr>\n",
       "    <tr>\n",
       "      <th>890</th>\n",
       "      <td>0</td>\n",
       "      <td>3</td>\n",
       "      <td>0</td>\n",
       "      <td>32</td>\n",
       "      <td>0</td>\n",
       "      <td>0</td>\n",
       "      <td>7.7500</td>\n",
       "      <td>0</td>\n",
       "    </tr>\n",
       "  </tbody>\n",
       "</table>\n",
       "<p>889 rows × 8 columns</p>\n",
       "</div>"
      ],
      "text/plain": [
       "     Survived  Pclass  Sex  Age  SibSp  Parch     Fare  Embarked\n",
       "0           0       3    0   22      1      0   7.2500         2\n",
       "1           1       1    1   38      1      0  71.2833         1\n",
       "2           1       3    1   26      0      0   7.9250         2\n",
       "3           1       1    1   35      1      0  53.1000         2\n",
       "4           0       3    0   35      0      0   8.0500         2\n",
       "..        ...     ...  ...  ...    ...    ...      ...       ...\n",
       "886         0       2    0   27      0      0  13.0000         2\n",
       "887         1       1    1   19      0      0  30.0000         2\n",
       "888         0       3    1   28      1      1  23.4500         2\n",
       "889         1       1    0   26      0      0  30.0000         1\n",
       "890         0       3    0   32      0      0   7.7500         0\n",
       "\n",
       "[889 rows x 8 columns]"
      ]
     },
     "execution_count": 33,
     "metadata": {},
     "output_type": "execute_result"
    }
   ],
   "source": [
    "train_df"
   ]
  },
  {
   "cell_type": "code",
   "execution_count": 34,
   "id": "f09d8f2e",
   "metadata": {
    "execution": {
     "iopub.execute_input": "2022-08-24T02:05:43.004838Z",
     "iopub.status.busy": "2022-08-24T02:05:43.004329Z",
     "iopub.status.idle": "2022-08-24T02:05:43.016367Z",
     "shell.execute_reply": "2022-08-24T02:05:43.014864Z"
    },
    "papermill": {
     "duration": 0.036524,
     "end_time": "2022-08-24T02:05:43.018825",
     "exception": false,
     "start_time": "2022-08-24T02:05:42.982301",
     "status": "completed"
    },
    "tags": []
   },
   "outputs": [
    {
     "data": {
      "text/plain": [
       "Pclass      0\n",
       "Sex         0\n",
       "Age         0\n",
       "SibSp       0\n",
       "Parch       0\n",
       "Fare        0\n",
       "Embarked    0\n",
       "dtype: int64"
      ]
     },
     "execution_count": 34,
     "metadata": {},
     "output_type": "execute_result"
    }
   ],
   "source": [
    "test_df\n",
    "test_df=test_df.fillna(test_df['Fare'].mean())\n",
    "test_df.isnull().sum()"
   ]
  },
  {
   "cell_type": "code",
   "execution_count": 35,
   "id": "3701294c",
   "metadata": {
    "execution": {
     "iopub.execute_input": "2022-08-24T02:05:43.060676Z",
     "iopub.status.busy": "2022-08-24T02:05:43.059457Z",
     "iopub.status.idle": "2022-08-24T02:05:43.065531Z",
     "shell.execute_reply": "2022-08-24T02:05:43.064304Z"
    },
    "papermill": {
     "duration": 0.029868,
     "end_time": "2022-08-24T02:05:43.068592",
     "exception": false,
     "start_time": "2022-08-24T02:05:43.038724",
     "status": "completed"
    },
    "tags": []
   },
   "outputs": [
    {
     "name": "stdout",
     "output_type": "stream",
     "text": [
      "the number of rows in the training data is 889 and number of column is 8\n"
     ]
    }
   ],
   "source": [
    "print(f'the number of rows in the training data is {train_df.shape[0]} and number of column is {train_df.shape[1]}' )"
   ]
  },
  {
   "cell_type": "code",
   "execution_count": 36,
   "id": "546ce6d3",
   "metadata": {
    "execution": {
     "iopub.execute_input": "2022-08-24T02:05:43.110626Z",
     "iopub.status.busy": "2022-08-24T02:05:43.110139Z",
     "iopub.status.idle": "2022-08-24T02:05:43.116500Z",
     "shell.execute_reply": "2022-08-24T02:05:43.114903Z"
    },
    "papermill": {
     "duration": 0.029524,
     "end_time": "2022-08-24T02:05:43.119071",
     "exception": false,
     "start_time": "2022-08-24T02:05:43.089547",
     "status": "completed"
    },
    "tags": []
   },
   "outputs": [
    {
     "name": "stdout",
     "output_type": "stream",
     "text": [
      "the number of rows in the training data is 418 and number of column is 7\n"
     ]
    }
   ],
   "source": [
    "print(f'the number of rows in the training data is {test_df.shape[0]} and number of column is {test_df.shape[1]}' )"
   ]
  },
  {
   "cell_type": "code",
   "execution_count": 37,
   "id": "eae4857d",
   "metadata": {
    "execution": {
     "iopub.execute_input": "2022-08-24T02:05:43.161231Z",
     "iopub.status.busy": "2022-08-24T02:05:43.160804Z",
     "iopub.status.idle": "2022-08-24T02:05:43.168635Z",
     "shell.execute_reply": "2022-08-24T02:05:43.167395Z"
    },
    "papermill": {
     "duration": 0.032548,
     "end_time": "2022-08-24T02:05:43.171133",
     "exception": false,
     "start_time": "2022-08-24T02:05:43.138585",
     "status": "completed"
    },
    "tags": []
   },
   "outputs": [],
   "source": [
    "Y_train = train_df['Survived'].values\n",
    "X_train = train_df.drop('Survived',axis=1).values"
   ]
  },
  {
   "cell_type": "code",
   "execution_count": 38,
   "id": "2fb22db7",
   "metadata": {
    "execution": {
     "iopub.execute_input": "2022-08-24T02:05:43.212374Z",
     "iopub.status.busy": "2022-08-24T02:05:43.211914Z",
     "iopub.status.idle": "2022-08-24T02:05:43.219926Z",
     "shell.execute_reply": "2022-08-24T02:05:43.218718Z"
    },
    "papermill": {
     "duration": 0.031249,
     "end_time": "2022-08-24T02:05:43.222118",
     "exception": false,
     "start_time": "2022-08-24T02:05:43.190869",
     "status": "completed"
    },
    "tags": []
   },
   "outputs": [
    {
     "data": {
      "text/plain": [
       "array([[ 3.    ,  0.    , 22.    , ...,  0.    ,  7.25  ,  2.    ],\n",
       "       [ 1.    ,  1.    , 38.    , ...,  0.    , 71.2833,  1.    ],\n",
       "       [ 3.    ,  1.    , 26.    , ...,  0.    ,  7.925 ,  2.    ],\n",
       "       ...,\n",
       "       [ 3.    ,  1.    , 28.    , ...,  1.    , 23.45  ,  2.    ],\n",
       "       [ 1.    ,  0.    , 26.    , ...,  0.    , 30.    ,  1.    ],\n",
       "       [ 3.    ,  0.    , 32.    , ...,  0.    ,  7.75  ,  0.    ]])"
      ]
     },
     "execution_count": 38,
     "metadata": {},
     "output_type": "execute_result"
    }
   ],
   "source": [
    "X_train"
   ]
  },
  {
   "cell_type": "code",
   "execution_count": null,
   "id": "24ffce4f",
   "metadata": {
    "papermill": {
     "duration": 0.018805,
     "end_time": "2022-08-24T02:05:43.260756",
     "exception": false,
     "start_time": "2022-08-24T02:05:43.241951",
     "status": "completed"
    },
    "tags": []
   },
   "outputs": [],
   "source": []
  },
  {
   "cell_type": "markdown",
   "id": "b794d4c6",
   "metadata": {
    "papermill": {
     "duration": 0.019117,
     "end_time": "2022-08-24T02:05:43.299036",
     "exception": false,
     "start_time": "2022-08-24T02:05:43.279919",
     "status": "completed"
    },
    "tags": []
   },
   "source": [
    "# **MODEL**"
   ]
  },
  {
   "cell_type": "code",
   "execution_count": 39,
   "id": "ce05043c",
   "metadata": {
    "execution": {
     "iopub.execute_input": "2022-08-24T02:05:43.339424Z",
     "iopub.status.busy": "2022-08-24T02:05:43.338989Z",
     "iopub.status.idle": "2022-08-24T02:05:44.784116Z",
     "shell.execute_reply": "2022-08-24T02:05:44.783142Z"
    },
    "papermill": {
     "duration": 1.468383,
     "end_time": "2022-08-24T02:05:44.786672",
     "exception": false,
     "start_time": "2022-08-24T02:05:43.318289",
     "status": "completed"
    },
    "tags": []
   },
   "outputs": [
    {
     "data": {
      "text/html": [
       "<style type='text/css'>\n",
       ".datatable table.frame { margin-bottom: 0; }\n",
       ".datatable table.frame thead { border-bottom: none; }\n",
       ".datatable table.frame tr.coltypes td {  color: #FFFFFF;  line-height: 6px;  padding: 0 0.5em;}\n",
       ".datatable .bool    { background: #DDDD99; }\n",
       ".datatable .object  { background: #565656; }\n",
       ".datatable .int     { background: #5D9E5D; }\n",
       ".datatable .float   { background: #4040CC; }\n",
       ".datatable .str     { background: #CC4040; }\n",
       ".datatable .time    { background: #40CC40; }\n",
       ".datatable .row_index {  background: var(--jp-border-color3);  border-right: 1px solid var(--jp-border-color0);  color: var(--jp-ui-font-color3);  font-size: 9px;}\n",
       ".datatable .frame tbody td { text-align: left; }\n",
       ".datatable .frame tr.coltypes .row_index {  background: var(--jp-border-color0);}\n",
       ".datatable th:nth-child(2) { padding-left: 12px; }\n",
       ".datatable .hellipsis {  color: var(--jp-cell-editor-border-color);}\n",
       ".datatable .vellipsis {  background: var(--jp-layout-color0);  color: var(--jp-cell-editor-border-color);}\n",
       ".datatable .na {  color: var(--jp-cell-editor-border-color);  font-size: 80%;}\n",
       ".datatable .sp {  opacity: 0.25;}\n",
       ".datatable .footer { font-size: 9px; }\n",
       ".datatable .frame_dimensions {  background: var(--jp-border-color3);  border-top: 1px solid var(--jp-border-color0);  color: var(--jp-ui-font-color3);  display: inline-block;  opacity: 0.6;  padding: 1px 10px 1px 5px;}\n",
       "</style>\n"
      ],
      "text/plain": [
       "<IPython.core.display.HTML object>"
      ]
     },
     "metadata": {},
     "output_type": "display_data"
    }
   ],
   "source": [
    "from sklearn.ensemble import BaggingClassifier\n",
    "from xgboost import XGBClassifier\n",
    "from lightgbm import LGBMClassifier\n",
    "from sklearn.tree import DecisionTreeClassifier\n",
    "from sklearn.ensemble import RandomForestClassifier\n",
    "\n",
    "from sklearn.metrics import accuracy_score, classification_report, confusion_matrix\n",
    "\n",
    "\n",
    "import warnings\n",
    "warnings.filterwarnings('ignore')"
   ]
  },
  {
   "cell_type": "code",
   "execution_count": 40,
   "id": "1765a319",
   "metadata": {
    "execution": {
     "iopub.execute_input": "2022-08-24T02:05:44.828835Z",
     "iopub.status.busy": "2022-08-24T02:05:44.827746Z",
     "iopub.status.idle": "2022-08-24T02:05:44.833117Z",
     "shell.execute_reply": "2022-08-24T02:05:44.832302Z"
    },
    "papermill": {
     "duration": 0.028612,
     "end_time": "2022-08-24T02:05:44.835314",
     "exception": false,
     "start_time": "2022-08-24T02:05:44.806702",
     "status": "completed"
    },
    "tags": []
   },
   "outputs": [],
   "source": [
    "model =  XGBClassifier(objective='multi:softmax',\n",
    "                              num_class=2,\n",
    "                              n_estimators = 400,\n",
    "                              max_depth = 10, \n",
    "                              learning_rate = 0.05,\n",
    "                              random_state=42,\n",
    "                              eval_metric='mlogloss')"
   ]
  },
  {
   "cell_type": "code",
   "execution_count": 41,
   "id": "01a93c10",
   "metadata": {
    "execution": {
     "iopub.execute_input": "2022-08-24T02:05:44.876423Z",
     "iopub.status.busy": "2022-08-24T02:05:44.875692Z",
     "iopub.status.idle": "2022-08-24T02:05:47.524197Z",
     "shell.execute_reply": "2022-08-24T02:05:47.523131Z"
    },
    "papermill": {
     "duration": 2.671852,
     "end_time": "2022-08-24T02:05:47.526664",
     "exception": false,
     "start_time": "2022-08-24T02:05:44.854812",
     "status": "completed"
    },
    "tags": []
   },
   "outputs": [
    {
     "data": {
      "text/plain": [
       "XGBClassifier(base_score=0.5, booster='gbtree', callbacks=None,\n",
       "              colsample_bylevel=1, colsample_bynode=1, colsample_bytree=1,\n",
       "              early_stopping_rounds=None, enable_categorical=False,\n",
       "              eval_metric='mlogloss', gamma=0, gpu_id=-1,\n",
       "              grow_policy='depthwise', importance_type=None,\n",
       "              interaction_constraints='', learning_rate=0.05, max_bin=256,\n",
       "              max_cat_to_onehot=4, max_delta_step=0, max_depth=10, max_leaves=0,\n",
       "              min_child_weight=1, missing=nan, monotone_constraints='()',\n",
       "              n_estimators=400, n_jobs=0, num_class=2, num_parallel_tree=1,\n",
       "              objective='multi:softmax', predictor='auto', random_state=42, ...)"
      ]
     },
     "execution_count": 41,
     "metadata": {},
     "output_type": "execute_result"
    }
   ],
   "source": [
    "model.fit(X_train,Y_train)"
   ]
  },
  {
   "cell_type": "code",
   "execution_count": 42,
   "id": "995fb37c",
   "metadata": {
    "execution": {
     "iopub.execute_input": "2022-08-24T02:05:47.568874Z",
     "iopub.status.busy": "2022-08-24T02:05:47.568145Z",
     "iopub.status.idle": "2022-08-24T02:05:47.576119Z",
     "shell.execute_reply": "2022-08-24T02:05:47.574940Z"
    },
    "papermill": {
     "duration": 0.031302,
     "end_time": "2022-08-24T02:05:47.578421",
     "exception": false,
     "start_time": "2022-08-24T02:05:47.547119",
     "status": "completed"
    },
    "tags": []
   },
   "outputs": [
    {
     "data": {
      "text/plain": [
       "array([[ 3.    ,  0.    , 34.    , ...,  0.    ,  7.8292,  0.    ],\n",
       "       [ 3.    ,  1.    , 47.    , ...,  0.    ,  7.    ,  2.    ],\n",
       "       [ 2.    ,  0.    , 62.    , ...,  0.    ,  9.6875,  0.    ],\n",
       "       ...,\n",
       "       [ 3.    ,  0.    , 38.    , ...,  0.    ,  7.25  ,  2.    ],\n",
       "       [ 3.    ,  0.    , 28.    , ...,  0.    ,  8.05  ,  2.    ],\n",
       "       [ 3.    ,  0.    , 28.    , ...,  1.    , 22.3583,  1.    ]])"
      ]
     },
     "execution_count": 42,
     "metadata": {},
     "output_type": "execute_result"
    }
   ],
   "source": [
    "X_test= test_df.values\n",
    "X_test"
   ]
  },
  {
   "cell_type": "code",
   "execution_count": 43,
   "id": "f8ac1e9f",
   "metadata": {
    "execution": {
     "iopub.execute_input": "2022-08-24T02:05:47.622428Z",
     "iopub.status.busy": "2022-08-24T02:05:47.621434Z",
     "iopub.status.idle": "2022-08-24T02:05:47.640360Z",
     "shell.execute_reply": "2022-08-24T02:05:47.639223Z"
    },
    "papermill": {
     "duration": 0.044263,
     "end_time": "2022-08-24T02:05:47.643258",
     "exception": false,
     "start_time": "2022-08-24T02:05:47.598995",
     "status": "completed"
    },
    "tags": []
   },
   "outputs": [],
   "source": [
    "y_predicted=model.predict(X_test)"
   ]
  },
  {
   "cell_type": "code",
   "execution_count": 44,
   "id": "2dcaecc5",
   "metadata": {
    "execution": {
     "iopub.execute_input": "2022-08-24T02:05:47.687680Z",
     "iopub.status.busy": "2022-08-24T02:05:47.687247Z",
     "iopub.status.idle": "2022-08-24T02:05:47.698629Z",
     "shell.execute_reply": "2022-08-24T02:05:47.697651Z"
    },
    "papermill": {
     "duration": 0.035364,
     "end_time": "2022-08-24T02:05:47.700917",
     "exception": false,
     "start_time": "2022-08-24T02:05:47.665553",
     "status": "completed"
    },
    "tags": []
   },
   "outputs": [
    {
     "data": {
      "text/plain": [
       "array([0, 0, 0, 1, 1, 0, 0, 0, 1, 0, 0, 0, 1, 0, 1, 1, 0, 1, 1, 0, 0, 0,\n",
       "       1, 1, 1, 0, 1, 1, 1, 0, 0, 0, 1, 0, 1, 0, 0, 0, 0, 1, 0, 1, 0, 1,\n",
       "       1, 0, 0, 0, 1, 1, 0, 0, 1, 1, 0, 0, 0, 0, 0, 1, 0, 1, 0, 1, 1, 1,\n",
       "       1, 0, 0, 1, 1, 0, 0, 0, 1, 1, 0, 1, 0, 1, 1, 0, 0, 0, 0, 0, 1, 1,\n",
       "       1, 1, 1, 0, 1, 0, 0, 0, 1, 0, 0, 0, 1, 0, 0, 0, 1, 0, 0, 0, 0, 0,\n",
       "       0, 1, 1, 0, 1, 0, 0, 1, 1, 1, 1, 0, 1, 0, 0, 1, 0, 1, 0, 0, 1, 0,\n",
       "       0, 0, 0, 0, 0, 0, 0, 0, 0, 1, 0, 0, 1, 0, 0, 0, 1, 0, 1, 0, 0, 1,\n",
       "       0, 0, 1, 0, 1, 1, 1, 1, 1, 0, 0, 0, 1, 0, 1, 0, 0, 1, 0, 0, 0, 1,\n",
       "       1, 0, 1, 1, 0, 1, 1, 0, 1, 0, 1, 1, 0, 0, 0, 0, 0, 0, 1, 0, 1, 0,\n",
       "       0, 0, 1, 1, 0, 1, 0, 0, 0, 0, 1, 0, 1, 0, 0, 1, 0, 0, 1, 0, 1, 0,\n",
       "       1, 0, 1, 1, 1, 0, 0, 1, 0, 0, 0, 1, 0, 0, 1, 0, 0, 1, 1, 1, 1, 1,\n",
       "       0, 0, 0, 0, 1, 0, 1, 0, 1, 0, 0, 0, 0, 0, 0, 0, 1, 0, 0, 0, 1, 1,\n",
       "       0, 0, 0, 0, 0, 0, 0, 0, 1, 1, 0, 1, 0, 0, 0, 0, 0, 1, 1, 0, 0, 0,\n",
       "       0, 0, 0, 0, 0, 0, 0, 0, 0, 0, 1, 0, 0, 0, 0, 0, 0, 0, 1, 1, 0, 1,\n",
       "       0, 0, 0, 1, 0, 0, 1, 1, 0, 0, 0, 0, 0, 0, 0, 1, 1, 0, 1, 0, 0, 0,\n",
       "       1, 0, 0, 1, 0, 0, 1, 0, 0, 0, 0, 0, 0, 1, 0, 1, 0, 0, 0, 1, 1, 0,\n",
       "       0, 0, 0, 0, 1, 0, 0, 1, 0, 1, 1, 1, 1, 0, 0, 0, 1, 1, 0, 1, 0, 0,\n",
       "       1, 1, 0, 0, 0, 0, 0, 0, 0, 1, 0, 1, 0, 0, 0, 0, 0, 1, 0, 0, 0, 1,\n",
       "       0, 1, 0, 0, 1, 0, 1, 0, 0, 0, 0, 0, 1, 1, 1, 1, 0, 0, 1, 0, 0, 1],\n",
       "      dtype=int32)"
      ]
     },
     "execution_count": 44,
     "metadata": {},
     "output_type": "execute_result"
    }
   ],
   "source": [
    "y_predicted\n"
   ]
  },
  {
   "cell_type": "code",
   "execution_count": 45,
   "id": "376e088b",
   "metadata": {
    "execution": {
     "iopub.execute_input": "2022-08-24T02:05:47.743331Z",
     "iopub.status.busy": "2022-08-24T02:05:47.742897Z",
     "iopub.status.idle": "2022-08-24T02:05:47.771563Z",
     "shell.execute_reply": "2022-08-24T02:05:47.769881Z"
    },
    "papermill": {
     "duration": 0.05409,
     "end_time": "2022-08-24T02:05:47.775303",
     "exception": false,
     "start_time": "2022-08-24T02:05:47.721213",
     "status": "completed"
    },
    "tags": []
   },
   "outputs": [
    {
     "name": "stdout",
     "output_type": "stream",
     "text": [
      "The accuracy score of the  xgbclassfier model 97.86%\n"
     ]
    }
   ],
   "source": [
    "print(f'The accuracy score of the  xgbclassfier model {round(model.score(X_train,Y_train)*100,2)}%')"
   ]
  },
  {
   "cell_type": "code",
   "execution_count": 46,
   "id": "39a20018",
   "metadata": {
    "execution": {
     "iopub.execute_input": "2022-08-24T02:05:47.819366Z",
     "iopub.status.busy": "2022-08-24T02:05:47.818906Z",
     "iopub.status.idle": "2022-08-24T02:05:48.013210Z",
     "shell.execute_reply": "2022-08-24T02:05:48.012018Z"
    },
    "papermill": {
     "duration": 0.219006,
     "end_time": "2022-08-24T02:05:48.016061",
     "exception": false,
     "start_time": "2022-08-24T02:05:47.797055",
     "status": "completed"
    },
    "tags": []
   },
   "outputs": [],
   "source": [
    "model_random = RandomForestClassifier(random_state=42, max_depth=6)\n",
    "model_random.fit(X_train, Y_train)\n",
    "Y_predict_random = model_random.predict(X_test)"
   ]
  },
  {
   "cell_type": "code",
   "execution_count": 47,
   "id": "c2dee473",
   "metadata": {
    "execution": {
     "iopub.execute_input": "2022-08-24T02:05:48.059056Z",
     "iopub.status.busy": "2022-08-24T02:05:48.058638Z",
     "iopub.status.idle": "2022-08-24T02:05:48.089779Z",
     "shell.execute_reply": "2022-08-24T02:05:48.088383Z"
    },
    "papermill": {
     "duration": 0.055438,
     "end_time": "2022-08-24T02:05:48.092426",
     "exception": false,
     "start_time": "2022-08-24T02:05:48.036988",
     "status": "completed"
    },
    "tags": []
   },
   "outputs": [
    {
     "name": "stdout",
     "output_type": "stream",
     "text": [
      "The accuracy score of the  xgbclassfier model 87.18%\n"
     ]
    }
   ],
   "source": [
    "print(f'The accuracy score of the  xgbclassfier model {round(model_random.score(X_train,Y_train)*100,2)}%')"
   ]
  },
  {
   "cell_type": "code",
   "execution_count": 48,
   "id": "120ab4d4",
   "metadata": {
    "execution": {
     "iopub.execute_input": "2022-08-24T02:05:48.134818Z",
     "iopub.status.busy": "2022-08-24T02:05:48.134383Z",
     "iopub.status.idle": "2022-08-24T02:05:48.270589Z",
     "shell.execute_reply": "2022-08-24T02:05:48.269478Z"
    },
    "papermill": {
     "duration": 0.160538,
     "end_time": "2022-08-24T02:05:48.273197",
     "exception": false,
     "start_time": "2022-08-24T02:05:48.112659",
     "status": "completed"
    },
    "tags": []
   },
   "outputs": [
    {
     "name": "stdout",
     "output_type": "stream",
     "text": [
      "The accuracy score of the  xgbclassfier model 94.38%\n"
     ]
    }
   ],
   "source": [
    "model_lgbm = LGBMClassifier(is_unbalance=True, random_state=42)\n",
    "model_lgbm.fit(X_train, Y_train)\n",
    "predict_lgbm = model_lgbm.predict(X_test)\n",
    "print(f'The accuracy score of the  xgbclassfier model {round(model_lgbm.score(X_train,Y_train)*100,2)}%')"
   ]
  },
  {
   "cell_type": "markdown",
   "id": "c445a5d8",
   "metadata": {
    "papermill": {
     "duration": 0.020062,
     "end_time": "2022-08-24T02:05:48.316126",
     "exception": false,
     "start_time": "2022-08-24T02:05:48.296064",
     "status": "completed"
    },
    "tags": []
   },
   "source": [
    "The model with the highest accurcay is xgboost so  am going with the xgboost model"
   ]
  },
  {
   "cell_type": "code",
   "execution_count": 49,
   "id": "a61c6aeb",
   "metadata": {
    "execution": {
     "iopub.execute_input": "2022-08-24T02:05:48.361290Z",
     "iopub.status.busy": "2022-08-24T02:05:48.360858Z",
     "iopub.status.idle": "2022-08-24T02:05:48.373441Z",
     "shell.execute_reply": "2022-08-24T02:05:48.372300Z"
    },
    "papermill": {
     "duration": 0.039366,
     "end_time": "2022-08-24T02:05:48.376015",
     "exception": false,
     "start_time": "2022-08-24T02:05:48.336649",
     "status": "completed"
    },
    "tags": []
   },
   "outputs": [],
   "source": [
    "submission_data= pd.read_csv('/kaggle/input/titanic/gender_submission.csv')"
   ]
  },
  {
   "cell_type": "code",
   "execution_count": null,
   "id": "fc82a9fc",
   "metadata": {
    "execution": {
     "iopub.execute_input": "2022-08-24T01:59:01.899289Z",
     "iopub.status.busy": "2022-08-24T01:59:01.898557Z",
     "iopub.status.idle": "2022-08-24T01:59:01.905025Z",
     "shell.execute_reply": "2022-08-24T01:59:01.903925Z",
     "shell.execute_reply.started": "2022-08-24T01:59:01.899242Z"
    },
    "papermill": {
     "duration": 0.020786,
     "end_time": "2022-08-24T02:05:48.418142",
     "exception": false,
     "start_time": "2022-08-24T02:05:48.397356",
     "status": "completed"
    },
    "tags": []
   },
   "outputs": [],
   "source": []
  },
  {
   "cell_type": "code",
   "execution_count": 50,
   "id": "9199abba",
   "metadata": {
    "execution": {
     "iopub.execute_input": "2022-08-24T02:05:48.461259Z",
     "iopub.status.busy": "2022-08-24T02:05:48.460125Z",
     "iopub.status.idle": "2022-08-24T02:05:48.466378Z",
     "shell.execute_reply": "2022-08-24T02:05:48.465444Z"
    },
    "papermill": {
     "duration": 0.030456,
     "end_time": "2022-08-24T02:05:48.468761",
     "exception": false,
     "start_time": "2022-08-24T02:05:48.438305",
     "status": "completed"
    },
    "tags": []
   },
   "outputs": [],
   "source": [
    "submission = pd.DataFrame({\n",
    "         \"PassengerId\": submission_data[\"PassengerId\"],\n",
    "        \"Survived\": y_predicted\n",
    "    })"
   ]
  },
  {
   "cell_type": "code",
   "execution_count": 51,
   "id": "c8913804",
   "metadata": {
    "execution": {
     "iopub.execute_input": "2022-08-24T02:05:48.511288Z",
     "iopub.status.busy": "2022-08-24T02:05:48.510507Z",
     "iopub.status.idle": "2022-08-24T02:05:48.519134Z",
     "shell.execute_reply": "2022-08-24T02:05:48.518216Z"
    },
    "papermill": {
     "duration": 0.032976,
     "end_time": "2022-08-24T02:05:48.521911",
     "exception": false,
     "start_time": "2022-08-24T02:05:48.488935",
     "status": "completed"
    },
    "tags": []
   },
   "outputs": [],
   "source": [
    "submission_csv = submission.to_csv('submission.csv', index=False)"
   ]
  },
  {
   "cell_type": "code",
   "execution_count": null,
   "id": "f6d9f5d2",
   "metadata": {
    "papermill": {
     "duration": 0.021546,
     "end_time": "2022-08-24T02:05:48.564128",
     "exception": false,
     "start_time": "2022-08-24T02:05:48.542582",
     "status": "completed"
    },
    "tags": []
   },
   "outputs": [],
   "source": []
  }
 ],
 "metadata": {
  "kernelspec": {
   "display_name": "Python 3",
   "language": "python",
   "name": "python3"
  },
  "language_info": {
   "codemirror_mode": {
    "name": "ipython",
    "version": 3
   },
   "file_extension": ".py",
   "mimetype": "text/x-python",
   "name": "python",
   "nbconvert_exporter": "python",
   "pygments_lexer": "ipython3",
   "version": "3.7.12"
  },
  "papermill": {
   "default_parameters": {},
   "duration": 21.956667,
   "end_time": "2022-08-24T02:05:49.506965",
   "environment_variables": {},
   "exception": null,
   "input_path": "__notebook__.ipynb",
   "output_path": "__notebook__.ipynb",
   "parameters": {},
   "start_time": "2022-08-24T02:05:27.550298",
   "version": "2.3.4"
  }
 },
 "nbformat": 4,
 "nbformat_minor": 5
}
